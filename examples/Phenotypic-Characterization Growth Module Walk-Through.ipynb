{
 "cells": [
  {
   "cell_type": "code",
   "execution_count": 12,
   "metadata": {
    "ExecuteTime": {
     "end_time": "2020-02-07T19:00:59.391132Z",
     "start_time": "2020-02-07T19:00:59.347223Z"
    }
   },
   "outputs": [
    {
     "name": "stdout",
     "output_type": "stream",
     "text": [
      "pandas\t\t 0.24.2\n",
      "numpy\t\t 1.16.5\n",
      "scipy\t\t 1.2.1\n",
      "GPy\t\t 1.9.9\n",
      "seaborn\t\t 0.9.0\n",
      "matplotlib\t 2.2.3\n"
     ]
    }
   ],
   "source": [
    "# import off-the-shelf libraries\n",
    "import os\n",
    "import imp\n",
    "import sys\n",
    "import GPy, scipy\n",
    "import pandas as pd\n",
    "import numpy as np\n",
    "import matplotlib as mpl\n",
    "import matplotlib.pyplot as plt\n",
    "import seaborn as sns\n",
    "import time as timemodule\n",
    "import copy\n",
    "\n",
    "print '%s\\t\\t %s' % ('pandas',pd.__version__)\n",
    "print '%s\\t\\t %s' % ('numpy', np.__version__)\n",
    "print '%s\\t\\t %s' % ('scipy', scipy.__version__)\n",
    "print '%s\\t\\t %s' % ('GPy', GPy.__version__)\n",
    "print '%s\\t\\t %s' % ('seaborn', sns.__version__)\n",
    "print '%s\\t %s' % ('matplotlib', mpl.__version__)\n",
    "\n",
    "# set global parameters\n",
    "%matplotlib inline\n",
    "sns.set_style('whitegrid')\n",
    "\n",
    "# import in-house library\n",
    "sys.path.append(\"..\")\n",
    "from libs import classical,growth,plates\n",
    "from libs import growth as growth"
   ]
  },
  {
   "cell_type": "markdown",
   "metadata": {},
   "source": [
    "***WARNING*** ```BiopythonExperimentalWarning```\n",
    "<br></br></br> \n",
    "```Bio.phenotype``` is an experimental submodule which may undergo significant changes prior to its future official release."
   ]
  },
  {
   "cell_type": "markdown",
   "metadata": {},
   "source": [
    "# Read Data"
   ]
  },
  {
   "cell_type": "code",
   "execution_count": 13,
   "metadata": {
    "ExecuteTime": {
     "end_time": "2020-02-07T19:01:00.302917Z",
     "start_time": "2020-02-07T19:01:00.187975Z"
    }
   },
   "outputs": [
    {
     "data": {
      "text/html": [
       "<div>\n",
       "<style scoped>\n",
       "    .dataframe tbody tr th:only-of-type {\n",
       "        vertical-align: middle;\n",
       "    }\n",
       "\n",
       "    .dataframe tbody tr th {\n",
       "        vertical-align: top;\n",
       "    }\n",
       "\n",
       "    .dataframe thead th {\n",
       "        text-align: right;\n",
       "    }\n",
       "</style>\n",
       "<table border=\"1\" class=\"dataframe\">\n",
       "  <thead>\n",
       "    <tr style=\"text-align: right;\">\n",
       "      <th></th>\n",
       "      <th>0</th>\n",
       "      <th>600</th>\n",
       "      <th>1200</th>\n",
       "      <th>1800</th>\n",
       "      <th>2400</th>\n",
       "      <th>3000</th>\n",
       "      <th>3600</th>\n",
       "      <th>4200</th>\n",
       "      <th>4800</th>\n",
       "      <th>5400</th>\n",
       "      <th>...</th>\n",
       "      <th>54000</th>\n",
       "      <th>54600</th>\n",
       "      <th>55200</th>\n",
       "      <th>55800</th>\n",
       "      <th>56400</th>\n",
       "      <th>57000</th>\n",
       "      <th>57600</th>\n",
       "      <th>58200</th>\n",
       "      <th>58800</th>\n",
       "      <th>59400</th>\n",
       "    </tr>\n",
       "    <tr>\n",
       "      <th>Well</th>\n",
       "      <th></th>\n",
       "      <th></th>\n",
       "      <th></th>\n",
       "      <th></th>\n",
       "      <th></th>\n",
       "      <th></th>\n",
       "      <th></th>\n",
       "      <th></th>\n",
       "      <th></th>\n",
       "      <th></th>\n",
       "      <th></th>\n",
       "      <th></th>\n",
       "      <th></th>\n",
       "      <th></th>\n",
       "      <th></th>\n",
       "      <th></th>\n",
       "      <th></th>\n",
       "      <th></th>\n",
       "      <th></th>\n",
       "      <th></th>\n",
       "      <th></th>\n",
       "    </tr>\n",
       "  </thead>\n",
       "  <tbody>\n",
       "    <tr>\n",
       "      <th>A1</th>\n",
       "      <td>0.277</td>\n",
       "      <td>0.275</td>\n",
       "      <td>0.279</td>\n",
       "      <td>0.280</td>\n",
       "      <td>0.289</td>\n",
       "      <td>0.296</td>\n",
       "      <td>0.310</td>\n",
       "      <td>0.328</td>\n",
       "      <td>0.351</td>\n",
       "      <td>0.362</td>\n",
       "      <td>...</td>\n",
       "      <td>0.478</td>\n",
       "      <td>0.473</td>\n",
       "      <td>0.476</td>\n",
       "      <td>0.477</td>\n",
       "      <td>0.474</td>\n",
       "      <td>0.476</td>\n",
       "      <td>0.471</td>\n",
       "      <td>0.474</td>\n",
       "      <td>0.476</td>\n",
       "      <td>0.474</td>\n",
       "    </tr>\n",
       "    <tr>\n",
       "      <th>A2</th>\n",
       "      <td>0.282</td>\n",
       "      <td>0.281</td>\n",
       "      <td>0.286</td>\n",
       "      <td>0.287</td>\n",
       "      <td>0.294</td>\n",
       "      <td>0.300</td>\n",
       "      <td>0.311</td>\n",
       "      <td>0.327</td>\n",
       "      <td>0.339</td>\n",
       "      <td>0.352</td>\n",
       "      <td>...</td>\n",
       "      <td>0.489</td>\n",
       "      <td>0.484</td>\n",
       "      <td>0.489</td>\n",
       "      <td>0.495</td>\n",
       "      <td>0.491</td>\n",
       "      <td>0.492</td>\n",
       "      <td>0.483</td>\n",
       "      <td>0.488</td>\n",
       "      <td>0.493</td>\n",
       "      <td>0.490</td>\n",
       "    </tr>\n",
       "    <tr>\n",
       "      <th>A3</th>\n",
       "      <td>0.275</td>\n",
       "      <td>0.283</td>\n",
       "      <td>0.276</td>\n",
       "      <td>0.288</td>\n",
       "      <td>0.305</td>\n",
       "      <td>0.327</td>\n",
       "      <td>0.355</td>\n",
       "      <td>0.388</td>\n",
       "      <td>0.429</td>\n",
       "      <td>0.470</td>\n",
       "      <td>...</td>\n",
       "      <td>0.535</td>\n",
       "      <td>0.520</td>\n",
       "      <td>0.508</td>\n",
       "      <td>0.495</td>\n",
       "      <td>0.483</td>\n",
       "      <td>0.472</td>\n",
       "      <td>0.461</td>\n",
       "      <td>0.451</td>\n",
       "      <td>0.441</td>\n",
       "      <td>0.433</td>\n",
       "    </tr>\n",
       "    <tr>\n",
       "      <th>A4</th>\n",
       "      <td>0.270</td>\n",
       "      <td>0.269</td>\n",
       "      <td>0.272</td>\n",
       "      <td>0.272</td>\n",
       "      <td>0.279</td>\n",
       "      <td>0.286</td>\n",
       "      <td>0.298</td>\n",
       "      <td>0.313</td>\n",
       "      <td>0.327</td>\n",
       "      <td>0.345</td>\n",
       "      <td>...</td>\n",
       "      <td>0.470</td>\n",
       "      <td>0.469</td>\n",
       "      <td>0.469</td>\n",
       "      <td>0.470</td>\n",
       "      <td>0.469</td>\n",
       "      <td>0.471</td>\n",
       "      <td>0.467</td>\n",
       "      <td>0.469</td>\n",
       "      <td>0.472</td>\n",
       "      <td>0.473</td>\n",
       "    </tr>\n",
       "    <tr>\n",
       "      <th>A5</th>\n",
       "      <td>0.269</td>\n",
       "      <td>0.268</td>\n",
       "      <td>0.273</td>\n",
       "      <td>0.275</td>\n",
       "      <td>0.284</td>\n",
       "      <td>0.292</td>\n",
       "      <td>0.305</td>\n",
       "      <td>0.323</td>\n",
       "      <td>0.339</td>\n",
       "      <td>0.359</td>\n",
       "      <td>...</td>\n",
       "      <td>0.542</td>\n",
       "      <td>0.540</td>\n",
       "      <td>0.541</td>\n",
       "      <td>0.539</td>\n",
       "      <td>0.538</td>\n",
       "      <td>0.539</td>\n",
       "      <td>0.539</td>\n",
       "      <td>0.539</td>\n",
       "      <td>0.538</td>\n",
       "      <td>0.538</td>\n",
       "    </tr>\n",
       "  </tbody>\n",
       "</table>\n",
       "<p>5 rows × 100 columns</p>\n",
       "</div>"
      ],
      "text/plain": [
       "          0    600   1200   1800   2400   3000   3600   4200   4800   5400  \\\n",
       "Well                                                                         \n",
       "A1    0.277  0.275  0.279  0.280  0.289  0.296  0.310  0.328  0.351  0.362   \n",
       "A2    0.282  0.281  0.286  0.287  0.294  0.300  0.311  0.327  0.339  0.352   \n",
       "A3    0.275  0.283  0.276  0.288  0.305  0.327  0.355  0.388  0.429  0.470   \n",
       "A4    0.270  0.269  0.272  0.272  0.279  0.286  0.298  0.313  0.327  0.345   \n",
       "A5    0.269  0.268  0.273  0.275  0.284  0.292  0.305  0.323  0.339  0.359   \n",
       "\n",
       "      ...  54000  54600  55200  55800  56400  57000  57600  58200  58800  \\\n",
       "Well  ...                                                                  \n",
       "A1    ...  0.478  0.473  0.476  0.477  0.474  0.476  0.471  0.474  0.476   \n",
       "A2    ...  0.489  0.484  0.489  0.495  0.491  0.492  0.483  0.488  0.493   \n",
       "A3    ...  0.535  0.520  0.508  0.495  0.483  0.472  0.461  0.451  0.441   \n",
       "A4    ...  0.470  0.469  0.469  0.470  0.469  0.471  0.467  0.469  0.472   \n",
       "A5    ...  0.542  0.540  0.541  0.539  0.538  0.539  0.539  0.539  0.538   \n",
       "\n",
       "      59400  \n",
       "Well         \n",
       "A1    0.474  \n",
       "A2    0.490  \n",
       "A3    0.433  \n",
       "A4    0.473  \n",
       "A5    0.538  \n",
       "\n",
       "[5 rows x 100 columns]"
      ]
     },
     "execution_count": 13,
     "metadata": {},
     "output_type": "execute_result"
    }
   ],
   "source": [
    "data = pd.read_csv('/Users/firasmidani/rab_fm/proj/biolog/data_20190716/Magellan/PRB954_PM1-1.tsv',\n",
    "                   sep='\\t',header=0,index_col=0);\n",
    "data.head()"
   ]
  },
  {
   "cell_type": "code",
   "execution_count": 14,
   "metadata": {
    "ExecuteTime": {
     "end_time": "2020-02-07T19:01:00.429187Z",
     "start_time": "2020-02-07T19:01:00.327844Z"
    }
   },
   "outputs": [
    {
     "name": "stdout",
     "output_type": "stream",
     "text": [
      "<type 'str'>\n",
      "<type 'numpy.int64'>\n"
     ]
    },
    {
     "data": {
      "text/html": [
       "<div>\n",
       "<style scoped>\n",
       "    .dataframe tbody tr th:only-of-type {\n",
       "        vertical-align: middle;\n",
       "    }\n",
       "\n",
       "    .dataframe tbody tr th {\n",
       "        vertical-align: top;\n",
       "    }\n",
       "\n",
       "    .dataframe thead th {\n",
       "        text-align: right;\n",
       "    }\n",
       "</style>\n",
       "<table border=\"1\" class=\"dataframe\">\n",
       "  <thead>\n",
       "    <tr style=\"text-align: right;\">\n",
       "      <th>Time</th>\n",
       "      <th>0</th>\n",
       "      <th>600</th>\n",
       "      <th>1200</th>\n",
       "      <th>1800</th>\n",
       "      <th>2400</th>\n",
       "      <th>3000</th>\n",
       "      <th>3600</th>\n",
       "      <th>4200</th>\n",
       "      <th>4800</th>\n",
       "      <th>5400</th>\n",
       "      <th>...</th>\n",
       "      <th>54000</th>\n",
       "      <th>54600</th>\n",
       "      <th>55200</th>\n",
       "      <th>55800</th>\n",
       "      <th>56400</th>\n",
       "      <th>57000</th>\n",
       "      <th>57600</th>\n",
       "      <th>58200</th>\n",
       "      <th>58800</th>\n",
       "      <th>59400</th>\n",
       "    </tr>\n",
       "    <tr>\n",
       "      <th>Well</th>\n",
       "      <th></th>\n",
       "      <th></th>\n",
       "      <th></th>\n",
       "      <th></th>\n",
       "      <th></th>\n",
       "      <th></th>\n",
       "      <th></th>\n",
       "      <th></th>\n",
       "      <th></th>\n",
       "      <th></th>\n",
       "      <th></th>\n",
       "      <th></th>\n",
       "      <th></th>\n",
       "      <th></th>\n",
       "      <th></th>\n",
       "      <th></th>\n",
       "      <th></th>\n",
       "      <th></th>\n",
       "      <th></th>\n",
       "      <th></th>\n",
       "      <th></th>\n",
       "    </tr>\n",
       "  </thead>\n",
       "  <tbody>\n",
       "    <tr>\n",
       "      <th>A1</th>\n",
       "      <td>0.277</td>\n",
       "      <td>0.275</td>\n",
       "      <td>0.279</td>\n",
       "      <td>0.280</td>\n",
       "      <td>0.289</td>\n",
       "      <td>0.296</td>\n",
       "      <td>0.310</td>\n",
       "      <td>0.328</td>\n",
       "      <td>0.351</td>\n",
       "      <td>0.362</td>\n",
       "      <td>...</td>\n",
       "      <td>0.478</td>\n",
       "      <td>0.473</td>\n",
       "      <td>0.476</td>\n",
       "      <td>0.477</td>\n",
       "      <td>0.474</td>\n",
       "      <td>0.476</td>\n",
       "      <td>0.471</td>\n",
       "      <td>0.474</td>\n",
       "      <td>0.476</td>\n",
       "      <td>0.474</td>\n",
       "    </tr>\n",
       "    <tr>\n",
       "      <th>A2</th>\n",
       "      <td>0.282</td>\n",
       "      <td>0.281</td>\n",
       "      <td>0.286</td>\n",
       "      <td>0.287</td>\n",
       "      <td>0.294</td>\n",
       "      <td>0.300</td>\n",
       "      <td>0.311</td>\n",
       "      <td>0.327</td>\n",
       "      <td>0.339</td>\n",
       "      <td>0.352</td>\n",
       "      <td>...</td>\n",
       "      <td>0.489</td>\n",
       "      <td>0.484</td>\n",
       "      <td>0.489</td>\n",
       "      <td>0.495</td>\n",
       "      <td>0.491</td>\n",
       "      <td>0.492</td>\n",
       "      <td>0.483</td>\n",
       "      <td>0.488</td>\n",
       "      <td>0.493</td>\n",
       "      <td>0.490</td>\n",
       "    </tr>\n",
       "    <tr>\n",
       "      <th>A3</th>\n",
       "      <td>0.275</td>\n",
       "      <td>0.283</td>\n",
       "      <td>0.276</td>\n",
       "      <td>0.288</td>\n",
       "      <td>0.305</td>\n",
       "      <td>0.327</td>\n",
       "      <td>0.355</td>\n",
       "      <td>0.388</td>\n",
       "      <td>0.429</td>\n",
       "      <td>0.470</td>\n",
       "      <td>...</td>\n",
       "      <td>0.535</td>\n",
       "      <td>0.520</td>\n",
       "      <td>0.508</td>\n",
       "      <td>0.495</td>\n",
       "      <td>0.483</td>\n",
       "      <td>0.472</td>\n",
       "      <td>0.461</td>\n",
       "      <td>0.451</td>\n",
       "      <td>0.441</td>\n",
       "      <td>0.433</td>\n",
       "    </tr>\n",
       "    <tr>\n",
       "      <th>A4</th>\n",
       "      <td>0.270</td>\n",
       "      <td>0.269</td>\n",
       "      <td>0.272</td>\n",
       "      <td>0.272</td>\n",
       "      <td>0.279</td>\n",
       "      <td>0.286</td>\n",
       "      <td>0.298</td>\n",
       "      <td>0.313</td>\n",
       "      <td>0.327</td>\n",
       "      <td>0.345</td>\n",
       "      <td>...</td>\n",
       "      <td>0.470</td>\n",
       "      <td>0.469</td>\n",
       "      <td>0.469</td>\n",
       "      <td>0.470</td>\n",
       "      <td>0.469</td>\n",
       "      <td>0.471</td>\n",
       "      <td>0.467</td>\n",
       "      <td>0.469</td>\n",
       "      <td>0.472</td>\n",
       "      <td>0.473</td>\n",
       "    </tr>\n",
       "    <tr>\n",
       "      <th>A5</th>\n",
       "      <td>0.269</td>\n",
       "      <td>0.268</td>\n",
       "      <td>0.273</td>\n",
       "      <td>0.275</td>\n",
       "      <td>0.284</td>\n",
       "      <td>0.292</td>\n",
       "      <td>0.305</td>\n",
       "      <td>0.323</td>\n",
       "      <td>0.339</td>\n",
       "      <td>0.359</td>\n",
       "      <td>...</td>\n",
       "      <td>0.542</td>\n",
       "      <td>0.540</td>\n",
       "      <td>0.541</td>\n",
       "      <td>0.539</td>\n",
       "      <td>0.538</td>\n",
       "      <td>0.539</td>\n",
       "      <td>0.539</td>\n",
       "      <td>0.539</td>\n",
       "      <td>0.538</td>\n",
       "      <td>0.538</td>\n",
       "    </tr>\n",
       "  </tbody>\n",
       "</table>\n",
       "<p>5 rows × 100 columns</p>\n",
       "</div>"
      ],
      "text/plain": [
       "Time  0      600    1200   1800   2400   3000   3600   4200   4800   5400   \\\n",
       "Well                                                                         \n",
       "A1    0.277  0.275  0.279  0.280  0.289  0.296  0.310  0.328  0.351  0.362   \n",
       "A2    0.282  0.281  0.286  0.287  0.294  0.300  0.311  0.327  0.339  0.352   \n",
       "A3    0.275  0.283  0.276  0.288  0.305  0.327  0.355  0.388  0.429  0.470   \n",
       "A4    0.270  0.269  0.272  0.272  0.279  0.286  0.298  0.313  0.327  0.345   \n",
       "A5    0.269  0.268  0.273  0.275  0.284  0.292  0.305  0.323  0.339  0.359   \n",
       "\n",
       "Time  ...  54000  54600  55200  55800  56400  57000  57600  58200  58800  \\\n",
       "Well  ...                                                                  \n",
       "A1    ...  0.478  0.473  0.476  0.477  0.474  0.476  0.471  0.474  0.476   \n",
       "A2    ...  0.489  0.484  0.489  0.495  0.491  0.492  0.483  0.488  0.493   \n",
       "A3    ...  0.535  0.520  0.508  0.495  0.483  0.472  0.461  0.451  0.441   \n",
       "A4    ...  0.470  0.469  0.469  0.470  0.469  0.471  0.467  0.469  0.472   \n",
       "A5    ...  0.542  0.540  0.541  0.539  0.538  0.539  0.539  0.539  0.538   \n",
       "\n",
       "Time  59400  \n",
       "Well         \n",
       "A1    0.474  \n",
       "A2    0.490  \n",
       "A3    0.433  \n",
       "A4    0.473  \n",
       "A5    0.538  \n",
       "\n",
       "[5 rows x 100 columns]"
      ]
     },
     "execution_count": 14,
     "metadata": {},
     "output_type": "execute_result"
    }
   ],
   "source": [
    "# format \n",
    "print type(data.columns[0])\n",
    "\n",
    "# convert headers from strings to integers\n",
    "data.columns = plates.listTimePoints(interval=600,numTimePoints=data.shape[1])\n",
    "\n",
    "data.index.name = 'Well'\n",
    "data.T.index.name = 'Time'\n",
    "\n",
    "print type(data.columns[0])\n",
    "\n",
    "data.head()"
   ]
  },
  {
   "cell_type": "markdown",
   "metadata": {},
   "source": [
    "# Read Meta-data"
   ]
  },
  {
   "cell_type": "code",
   "execution_count": 15,
   "metadata": {
    "ExecuteTime": {
     "end_time": "2020-02-07T19:01:00.783959Z",
     "start_time": "2020-02-07T19:01:00.655850Z"
    }
   },
   "outputs": [
    {
     "data": {
      "text/html": [
       "<div>\n",
       "<style scoped>\n",
       "    .dataframe tbody tr th:only-of-type {\n",
       "        vertical-align: middle;\n",
       "    }\n",
       "\n",
       "    .dataframe tbody tr th {\n",
       "        vertical-align: top;\n",
       "    }\n",
       "\n",
       "    .dataframe thead th {\n",
       "        text-align: right;\n",
       "    }\n",
       "</style>\n",
       "<table border=\"1\" class=\"dataframe\">\n",
       "  <thead>\n",
       "    <tr style=\"text-align: right;\">\n",
       "      <th></th>\n",
       "      <th>Plate_ID</th>\n",
       "      <th>Isolate</th>\n",
       "      <th>PM</th>\n",
       "      <th>Replicate</th>\n",
       "      <th>Substrate</th>\n",
       "    </tr>\n",
       "    <tr>\n",
       "      <th>Well</th>\n",
       "      <th></th>\n",
       "      <th></th>\n",
       "      <th></th>\n",
       "      <th></th>\n",
       "      <th></th>\n",
       "    </tr>\n",
       "  </thead>\n",
       "  <tbody>\n",
       "    <tr>\n",
       "      <th>A1</th>\n",
       "      <td>PRB954_PM1-1</td>\n",
       "      <td>PRB954</td>\n",
       "      <td>1</td>\n",
       "      <td>1</td>\n",
       "      <td>Negative Control</td>\n",
       "    </tr>\n",
       "    <tr>\n",
       "      <th>A2</th>\n",
       "      <td>PRB954_PM1-1</td>\n",
       "      <td>PRB954</td>\n",
       "      <td>1</td>\n",
       "      <td>1</td>\n",
       "      <td>L-Arabanose</td>\n",
       "    </tr>\n",
       "    <tr>\n",
       "      <th>A3</th>\n",
       "      <td>PRB954_PM1-1</td>\n",
       "      <td>PRB954</td>\n",
       "      <td>1</td>\n",
       "      <td>1</td>\n",
       "      <td>N-Acetyl-D-Glucosamine</td>\n",
       "    </tr>\n",
       "    <tr>\n",
       "      <th>A4</th>\n",
       "      <td>PRB954_PM1-1</td>\n",
       "      <td>PRB954</td>\n",
       "      <td>1</td>\n",
       "      <td>1</td>\n",
       "      <td>D-Saccharic Acid</td>\n",
       "    </tr>\n",
       "    <tr>\n",
       "      <th>A5</th>\n",
       "      <td>PRB954_PM1-1</td>\n",
       "      <td>PRB954</td>\n",
       "      <td>1</td>\n",
       "      <td>1</td>\n",
       "      <td>Succinic Acid</td>\n",
       "    </tr>\n",
       "  </tbody>\n",
       "</table>\n",
       "</div>"
      ],
      "text/plain": [
       "          Plate_ID Isolate PM Replicate               Substrate\n",
       "Well                                                           \n",
       "A1    PRB954_PM1-1  PRB954  1         1        Negative Control\n",
       "A2    PRB954_PM1-1  PRB954  1         1             L-Arabanose\n",
       "A3    PRB954_PM1-1  PRB954  1         1  N-Acetyl-D-Glucosamine\n",
       "A4    PRB954_PM1-1  PRB954  1         1        D-Saccharic Acid\n",
       "A5    PRB954_PM1-1  PRB954  1         1           Succinic Acid"
      ]
     },
     "execution_count": 15,
     "metadata": {},
     "output_type": "execute_result"
    }
   ],
   "source": [
    "key = plates.initializeBiologPlateKey('PRB954_PM1-1',simple=False);\n",
    "key.head()"
   ]
  },
  {
   "cell_type": "code",
   "execution_count": 16,
   "metadata": {
    "ExecuteTime": {
     "end_time": "2020-02-07T19:01:00.901325Z",
     "start_time": "2020-02-07T19:01:00.792904Z"
    }
   },
   "outputs": [
    {
     "data": {
      "text/html": [
       "<div>\n",
       "<style scoped>\n",
       "    .dataframe tbody tr th:only-of-type {\n",
       "        vertical-align: middle;\n",
       "    }\n",
       "\n",
       "    .dataframe tbody tr th {\n",
       "        vertical-align: top;\n",
       "    }\n",
       "\n",
       "    .dataframe thead th {\n",
       "        text-align: right;\n",
       "    }\n",
       "</style>\n",
       "<table border=\"1\" class=\"dataframe\">\n",
       "  <thead>\n",
       "    <tr style=\"text-align: right;\">\n",
       "      <th>Time</th>\n",
       "      <th>0</th>\n",
       "      <th>600</th>\n",
       "      <th>1200</th>\n",
       "      <th>1800</th>\n",
       "      <th>2400</th>\n",
       "      <th>3000</th>\n",
       "      <th>3600</th>\n",
       "      <th>4200</th>\n",
       "      <th>4800</th>\n",
       "      <th>5400</th>\n",
       "      <th>...</th>\n",
       "      <th>54000</th>\n",
       "      <th>54600</th>\n",
       "      <th>55200</th>\n",
       "      <th>55800</th>\n",
       "      <th>56400</th>\n",
       "      <th>57000</th>\n",
       "      <th>57600</th>\n",
       "      <th>58200</th>\n",
       "      <th>58800</th>\n",
       "      <th>59400</th>\n",
       "    </tr>\n",
       "    <tr>\n",
       "      <th>Well</th>\n",
       "      <th></th>\n",
       "      <th></th>\n",
       "      <th></th>\n",
       "      <th></th>\n",
       "      <th></th>\n",
       "      <th></th>\n",
       "      <th></th>\n",
       "      <th></th>\n",
       "      <th></th>\n",
       "      <th></th>\n",
       "      <th></th>\n",
       "      <th></th>\n",
       "      <th></th>\n",
       "      <th></th>\n",
       "      <th></th>\n",
       "      <th></th>\n",
       "      <th></th>\n",
       "      <th></th>\n",
       "      <th></th>\n",
       "      <th></th>\n",
       "      <th></th>\n",
       "    </tr>\n",
       "  </thead>\n",
       "  <tbody>\n",
       "    <tr>\n",
       "      <th>A1</th>\n",
       "      <td>0.277</td>\n",
       "      <td>0.275</td>\n",
       "      <td>0.279</td>\n",
       "      <td>0.280</td>\n",
       "      <td>0.289</td>\n",
       "      <td>0.296</td>\n",
       "      <td>0.310</td>\n",
       "      <td>0.328</td>\n",
       "      <td>0.351</td>\n",
       "      <td>0.362</td>\n",
       "      <td>...</td>\n",
       "      <td>0.478</td>\n",
       "      <td>0.473</td>\n",
       "      <td>0.476</td>\n",
       "      <td>0.477</td>\n",
       "      <td>0.474</td>\n",
       "      <td>0.476</td>\n",
       "      <td>0.471</td>\n",
       "      <td>0.474</td>\n",
       "      <td>0.476</td>\n",
       "      <td>0.474</td>\n",
       "    </tr>\n",
       "    <tr>\n",
       "      <th>A2</th>\n",
       "      <td>0.282</td>\n",
       "      <td>0.281</td>\n",
       "      <td>0.286</td>\n",
       "      <td>0.287</td>\n",
       "      <td>0.294</td>\n",
       "      <td>0.300</td>\n",
       "      <td>0.311</td>\n",
       "      <td>0.327</td>\n",
       "      <td>0.339</td>\n",
       "      <td>0.352</td>\n",
       "      <td>...</td>\n",
       "      <td>0.489</td>\n",
       "      <td>0.484</td>\n",
       "      <td>0.489</td>\n",
       "      <td>0.495</td>\n",
       "      <td>0.491</td>\n",
       "      <td>0.492</td>\n",
       "      <td>0.483</td>\n",
       "      <td>0.488</td>\n",
       "      <td>0.493</td>\n",
       "      <td>0.490</td>\n",
       "    </tr>\n",
       "    <tr>\n",
       "      <th>A3</th>\n",
       "      <td>0.275</td>\n",
       "      <td>0.283</td>\n",
       "      <td>0.276</td>\n",
       "      <td>0.288</td>\n",
       "      <td>0.305</td>\n",
       "      <td>0.327</td>\n",
       "      <td>0.355</td>\n",
       "      <td>0.388</td>\n",
       "      <td>0.429</td>\n",
       "      <td>0.470</td>\n",
       "      <td>...</td>\n",
       "      <td>0.535</td>\n",
       "      <td>0.520</td>\n",
       "      <td>0.508</td>\n",
       "      <td>0.495</td>\n",
       "      <td>0.483</td>\n",
       "      <td>0.472</td>\n",
       "      <td>0.461</td>\n",
       "      <td>0.451</td>\n",
       "      <td>0.441</td>\n",
       "      <td>0.433</td>\n",
       "    </tr>\n",
       "    <tr>\n",
       "      <th>A4</th>\n",
       "      <td>0.270</td>\n",
       "      <td>0.269</td>\n",
       "      <td>0.272</td>\n",
       "      <td>0.272</td>\n",
       "      <td>0.279</td>\n",
       "      <td>0.286</td>\n",
       "      <td>0.298</td>\n",
       "      <td>0.313</td>\n",
       "      <td>0.327</td>\n",
       "      <td>0.345</td>\n",
       "      <td>...</td>\n",
       "      <td>0.470</td>\n",
       "      <td>0.469</td>\n",
       "      <td>0.469</td>\n",
       "      <td>0.470</td>\n",
       "      <td>0.469</td>\n",
       "      <td>0.471</td>\n",
       "      <td>0.467</td>\n",
       "      <td>0.469</td>\n",
       "      <td>0.472</td>\n",
       "      <td>0.473</td>\n",
       "    </tr>\n",
       "    <tr>\n",
       "      <th>A5</th>\n",
       "      <td>0.269</td>\n",
       "      <td>0.268</td>\n",
       "      <td>0.273</td>\n",
       "      <td>0.275</td>\n",
       "      <td>0.284</td>\n",
       "      <td>0.292</td>\n",
       "      <td>0.305</td>\n",
       "      <td>0.323</td>\n",
       "      <td>0.339</td>\n",
       "      <td>0.359</td>\n",
       "      <td>...</td>\n",
       "      <td>0.542</td>\n",
       "      <td>0.540</td>\n",
       "      <td>0.541</td>\n",
       "      <td>0.539</td>\n",
       "      <td>0.538</td>\n",
       "      <td>0.539</td>\n",
       "      <td>0.539</td>\n",
       "      <td>0.539</td>\n",
       "      <td>0.538</td>\n",
       "      <td>0.538</td>\n",
       "    </tr>\n",
       "  </tbody>\n",
       "</table>\n",
       "<p>5 rows × 100 columns</p>\n",
       "</div>"
      ],
      "text/plain": [
       "Time  0      600    1200   1800   2400   3000   3600   4200   4800   5400   \\\n",
       "Well                                                                         \n",
       "A1    0.277  0.275  0.279  0.280  0.289  0.296  0.310  0.328  0.351  0.362   \n",
       "A2    0.282  0.281  0.286  0.287  0.294  0.300  0.311  0.327  0.339  0.352   \n",
       "A3    0.275  0.283  0.276  0.288  0.305  0.327  0.355  0.388  0.429  0.470   \n",
       "A4    0.270  0.269  0.272  0.272  0.279  0.286  0.298  0.313  0.327  0.345   \n",
       "A5    0.269  0.268  0.273  0.275  0.284  0.292  0.305  0.323  0.339  0.359   \n",
       "\n",
       "Time  ...  54000  54600  55200  55800  56400  57000  57600  58200  58800  \\\n",
       "Well  ...                                                                  \n",
       "A1    ...  0.478  0.473  0.476  0.477  0.474  0.476  0.471  0.474  0.476   \n",
       "A2    ...  0.489  0.484  0.489  0.495  0.491  0.492  0.483  0.488  0.493   \n",
       "A3    ...  0.535  0.520  0.508  0.495  0.483  0.472  0.461  0.451  0.441   \n",
       "A4    ...  0.470  0.469  0.469  0.470  0.469  0.471  0.467  0.469  0.472   \n",
       "A5    ...  0.542  0.540  0.541  0.539  0.538  0.539  0.539  0.539  0.538   \n",
       "\n",
       "Time  59400  \n",
       "Well         \n",
       "A1    0.474  \n",
       "A2    0.490  \n",
       "A3    0.433  \n",
       "A4    0.473  \n",
       "A5    0.538  \n",
       "\n",
       "[5 rows x 100 columns]"
      ]
     },
     "execution_count": 16,
     "metadata": {},
     "output_type": "execute_result"
    }
   ],
   "source": [
    "# remove time points with NaN from data\n",
    "data = data.iloc[:,np.where(~data.isna().all(0))[0]]\n",
    "data.head()"
   ]
  },
  {
   "cell_type": "code",
   "execution_count": 17,
   "metadata": {
    "ExecuteTime": {
     "end_time": "2020-02-07T19:01:01.964475Z",
     "start_time": "2020-02-07T19:01:01.363964Z"
    }
   },
   "outputs": [
    {
     "data": {
      "text/html": [
       "<div>\n",
       "<style scoped>\n",
       "    .dataframe tbody tr th:only-of-type {\n",
       "        vertical-align: middle;\n",
       "    }\n",
       "\n",
       "    .dataframe tbody tr th {\n",
       "        vertical-align: top;\n",
       "    }\n",
       "\n",
       "    .dataframe thead th {\n",
       "        text-align: right;\n",
       "    }\n",
       "</style>\n",
       "<table border=\"1\" class=\"dataframe\">\n",
       "  <thead>\n",
       "    <tr style=\"text-align: right;\">\n",
       "      <th></th>\n",
       "      <th>Well</th>\n",
       "      <th>Letter</th>\n",
       "      <th>Plate_ID</th>\n",
       "      <th>Row</th>\n",
       "      <th>Column</th>\n",
       "      <th>Isolate</th>\n",
       "      <th>Substrate</th>\n",
       "      <th>Max_OD</th>\n",
       "      <th>Fold_Change</th>\n",
       "    </tr>\n",
       "    <tr>\n",
       "      <th>Well</th>\n",
       "      <th></th>\n",
       "      <th></th>\n",
       "      <th></th>\n",
       "      <th></th>\n",
       "      <th></th>\n",
       "      <th></th>\n",
       "      <th></th>\n",
       "      <th></th>\n",
       "      <th></th>\n",
       "    </tr>\n",
       "  </thead>\n",
       "  <tbody>\n",
       "    <tr>\n",
       "      <th>A1</th>\n",
       "      <td>A1</td>\n",
       "      <td>A</td>\n",
       "      <td>PRB954_PM1-1</td>\n",
       "      <td>1</td>\n",
       "      <td>1</td>\n",
       "      <td>PRB954</td>\n",
       "      <td>Negative Control</td>\n",
       "      <td>0.214362</td>\n",
       "      <td>1.000000</td>\n",
       "    </tr>\n",
       "    <tr>\n",
       "      <th>A2</th>\n",
       "      <td>A2</td>\n",
       "      <td>A</td>\n",
       "      <td>PRB954_PM1-1</td>\n",
       "      <td>1</td>\n",
       "      <td>2</td>\n",
       "      <td>PRB954</td>\n",
       "      <td>L-Arabanose</td>\n",
       "      <td>0.214376</td>\n",
       "      <td>1.000066</td>\n",
       "    </tr>\n",
       "    <tr>\n",
       "      <th>A3</th>\n",
       "      <td>A3</td>\n",
       "      <td>A</td>\n",
       "      <td>PRB954_PM1-1</td>\n",
       "      <td>1</td>\n",
       "      <td>3</td>\n",
       "      <td>PRB954</td>\n",
       "      <td>N-Acetyl-D-Glucosamine</td>\n",
       "      <td>0.758015</td>\n",
       "      <td>3.536141</td>\n",
       "    </tr>\n",
       "    <tr>\n",
       "      <th>A4</th>\n",
       "      <td>A4</td>\n",
       "      <td>A</td>\n",
       "      <td>PRB954_PM1-1</td>\n",
       "      <td>1</td>\n",
       "      <td>4</td>\n",
       "      <td>PRB954</td>\n",
       "      <td>D-Saccharic Acid</td>\n",
       "      <td>0.210857</td>\n",
       "      <td>0.983649</td>\n",
       "    </tr>\n",
       "    <tr>\n",
       "      <th>A5</th>\n",
       "      <td>A5</td>\n",
       "      <td>A</td>\n",
       "      <td>PRB954_PM1-1</td>\n",
       "      <td>1</td>\n",
       "      <td>5</td>\n",
       "      <td>PRB954</td>\n",
       "      <td>Succinic Acid</td>\n",
       "      <td>0.341184</td>\n",
       "      <td>1.591626</td>\n",
       "    </tr>\n",
       "  </tbody>\n",
       "</table>\n",
       "</div>"
      ],
      "text/plain": [
       "     Well Letter      Plate_ID Row Column Isolate               Substrate  \\\n",
       "Well                                                                        \n",
       "A1     A1      A  PRB954_PM1-1   1      1  PRB954        Negative Control   \n",
       "A2     A2      A  PRB954_PM1-1   1      2  PRB954             L-Arabanose   \n",
       "A3     A3      A  PRB954_PM1-1   1      3  PRB954  N-Acetyl-D-Glucosamine   \n",
       "A4     A4      A  PRB954_PM1-1   1      4  PRB954        D-Saccharic Acid   \n",
       "A5     A5      A  PRB954_PM1-1   1      5  PRB954           Succinic Acid   \n",
       "\n",
       "        Max_OD  Fold_Change  \n",
       "Well                         \n",
       "A1    0.214362     1.000000  \n",
       "A2    0.214376     1.000066  \n",
       "A3    0.758015     3.536141  \n",
       "A4    0.210857     0.983649  \n",
       "A5    0.341184     1.591626  "
      ]
     },
     "execution_count": 17,
     "metadata": {},
     "output_type": "execute_result"
    }
   ],
   "source": [
    "# initialize pd.DataFrame for summarizing data sets\n",
    "order_columns = ['Well_ID','Letter','Plate_ID','Row','Column']\n",
    "order_columns += ['Isolate','Substrate','Max_OD','Fold_Change']\n",
    "order_columns\n",
    "\n",
    "summary = plates.summarizeGrowthData(data)\n",
    "summary = summary.join(key)\n",
    "summary = summary.loc[:,order_columns]\n",
    "summary.columns = ['Well'] + list(summary.columns[1:])\n",
    "\n",
    "summary.head()"
   ]
  },
  {
   "cell_type": "code",
   "execution_count": 18,
   "metadata": {
    "ExecuteTime": {
     "end_time": "2020-02-07T19:01:02.235518Z",
     "start_time": "2020-02-07T19:01:02.020128Z"
    }
   },
   "outputs": [
    {
     "data": {
      "text/html": [
       "<div>\n",
       "<style scoped>\n",
       "    .dataframe tbody tr th:only-of-type {\n",
       "        vertical-align: middle;\n",
       "    }\n",
       "\n",
       "    .dataframe tbody tr th {\n",
       "        vertical-align: top;\n",
       "    }\n",
       "\n",
       "    .dataframe thead th {\n",
       "        text-align: right;\n",
       "    }\n",
       "</style>\n",
       "<table border=\"1\" class=\"dataframe\">\n",
       "  <thead>\n",
       "    <tr style=\"text-align: right;\">\n",
       "      <th>Well</th>\n",
       "      <th>Time</th>\n",
       "      <th>A1</th>\n",
       "      <th>A2</th>\n",
       "      <th>A3</th>\n",
       "      <th>A4</th>\n",
       "      <th>A5</th>\n",
       "      <th>A6</th>\n",
       "      <th>A7</th>\n",
       "      <th>A8</th>\n",
       "      <th>A9</th>\n",
       "      <th>...</th>\n",
       "      <th>H3</th>\n",
       "      <th>H4</th>\n",
       "      <th>H5</th>\n",
       "      <th>H6</th>\n",
       "      <th>H7</th>\n",
       "      <th>H8</th>\n",
       "      <th>H9</th>\n",
       "      <th>H10</th>\n",
       "      <th>H11</th>\n",
       "      <th>H12</th>\n",
       "    </tr>\n",
       "  </thead>\n",
       "  <tbody>\n",
       "    <tr>\n",
       "      <th>0</th>\n",
       "      <td>0</td>\n",
       "      <td>0.277</td>\n",
       "      <td>0.282</td>\n",
       "      <td>0.275</td>\n",
       "      <td>0.270</td>\n",
       "      <td>0.269</td>\n",
       "      <td>0.265</td>\n",
       "      <td>0.257</td>\n",
       "      <td>0.248</td>\n",
       "      <td>0.271</td>\n",
       "      <td>...</td>\n",
       "      <td>0.268</td>\n",
       "      <td>0.266</td>\n",
       "      <td>0.263</td>\n",
       "      <td>0.253</td>\n",
       "      <td>0.253</td>\n",
       "      <td>0.246</td>\n",
       "      <td>0.259</td>\n",
       "      <td>0.259</td>\n",
       "      <td>0.258</td>\n",
       "      <td>0.268</td>\n",
       "    </tr>\n",
       "    <tr>\n",
       "      <th>1</th>\n",
       "      <td>600</td>\n",
       "      <td>0.275</td>\n",
       "      <td>0.281</td>\n",
       "      <td>0.283</td>\n",
       "      <td>0.269</td>\n",
       "      <td>0.268</td>\n",
       "      <td>0.263</td>\n",
       "      <td>0.254</td>\n",
       "      <td>0.244</td>\n",
       "      <td>0.267</td>\n",
       "      <td>...</td>\n",
       "      <td>0.279</td>\n",
       "      <td>0.279</td>\n",
       "      <td>0.278</td>\n",
       "      <td>0.270</td>\n",
       "      <td>0.263</td>\n",
       "      <td>0.256</td>\n",
       "      <td>0.268</td>\n",
       "      <td>0.262</td>\n",
       "      <td>0.261</td>\n",
       "      <td>0.270</td>\n",
       "    </tr>\n",
       "    <tr>\n",
       "      <th>2</th>\n",
       "      <td>1200</td>\n",
       "      <td>0.279</td>\n",
       "      <td>0.286</td>\n",
       "      <td>0.276</td>\n",
       "      <td>0.272</td>\n",
       "      <td>0.273</td>\n",
       "      <td>0.268</td>\n",
       "      <td>0.260</td>\n",
       "      <td>0.248</td>\n",
       "      <td>0.271</td>\n",
       "      <td>...</td>\n",
       "      <td>0.274</td>\n",
       "      <td>0.274</td>\n",
       "      <td>0.277</td>\n",
       "      <td>0.262</td>\n",
       "      <td>0.259</td>\n",
       "      <td>0.256</td>\n",
       "      <td>0.266</td>\n",
       "      <td>0.263</td>\n",
       "      <td>0.261</td>\n",
       "      <td>0.271</td>\n",
       "    </tr>\n",
       "    <tr>\n",
       "      <th>3</th>\n",
       "      <td>1800</td>\n",
       "      <td>0.280</td>\n",
       "      <td>0.287</td>\n",
       "      <td>0.288</td>\n",
       "      <td>0.272</td>\n",
       "      <td>0.275</td>\n",
       "      <td>0.269</td>\n",
       "      <td>0.263</td>\n",
       "      <td>0.252</td>\n",
       "      <td>0.275</td>\n",
       "      <td>...</td>\n",
       "      <td>0.271</td>\n",
       "      <td>0.273</td>\n",
       "      <td>0.281</td>\n",
       "      <td>0.260</td>\n",
       "      <td>0.258</td>\n",
       "      <td>0.260</td>\n",
       "      <td>0.266</td>\n",
       "      <td>0.265</td>\n",
       "      <td>0.260</td>\n",
       "      <td>0.271</td>\n",
       "    </tr>\n",
       "    <tr>\n",
       "      <th>4</th>\n",
       "      <td>2400</td>\n",
       "      <td>0.289</td>\n",
       "      <td>0.294</td>\n",
       "      <td>0.305</td>\n",
       "      <td>0.279</td>\n",
       "      <td>0.284</td>\n",
       "      <td>0.277</td>\n",
       "      <td>0.268</td>\n",
       "      <td>0.256</td>\n",
       "      <td>0.279</td>\n",
       "      <td>...</td>\n",
       "      <td>0.283</td>\n",
       "      <td>0.286</td>\n",
       "      <td>0.304</td>\n",
       "      <td>0.271</td>\n",
       "      <td>0.269</td>\n",
       "      <td>0.272</td>\n",
       "      <td>0.276</td>\n",
       "      <td>0.272</td>\n",
       "      <td>0.265</td>\n",
       "      <td>0.277</td>\n",
       "    </tr>\n",
       "  </tbody>\n",
       "</table>\n",
       "<p>5 rows × 97 columns</p>\n",
       "</div>"
      ],
      "text/plain": [
       "Well  Time     A1     A2     A3     A4     A5     A6     A7     A8     A9  \\\n",
       "0        0  0.277  0.282  0.275  0.270  0.269  0.265  0.257  0.248  0.271   \n",
       "1      600  0.275  0.281  0.283  0.269  0.268  0.263  0.254  0.244  0.267   \n",
       "2     1200  0.279  0.286  0.276  0.272  0.273  0.268  0.260  0.248  0.271   \n",
       "3     1800  0.280  0.287  0.288  0.272  0.275  0.269  0.263  0.252  0.275   \n",
       "4     2400  0.289  0.294  0.305  0.279  0.284  0.277  0.268  0.256  0.279   \n",
       "\n",
       "Well  ...     H3     H4     H5     H6     H7     H8     H9    H10    H11  \\\n",
       "0     ...  0.268  0.266  0.263  0.253  0.253  0.246  0.259  0.259  0.258   \n",
       "1     ...  0.279  0.279  0.278  0.270  0.263  0.256  0.268  0.262  0.261   \n",
       "2     ...  0.274  0.274  0.277  0.262  0.259  0.256  0.266  0.263  0.261   \n",
       "3     ...  0.271  0.273  0.281  0.260  0.258  0.260  0.266  0.265  0.260   \n",
       "4     ...  0.283  0.286  0.304  0.271  0.269  0.272  0.276  0.272  0.265   \n",
       "\n",
       "Well    H12  \n",
       "0     0.268  \n",
       "1     0.270  \n",
       "2     0.271  \n",
       "3     0.271  \n",
       "4     0.277  \n",
       "\n",
       "[5 rows x 97 columns]"
      ]
     },
     "execution_count": 18,
     "metadata": {},
     "output_type": "execute_result"
    }
   ],
   "source": [
    "# prepare data for growth dynamics inference\n",
    "data = data.T\n",
    "data = data.loc[:,key.index]\n",
    "data = data.reset_index(drop=False);\n",
    "data.head()"
   ]
  },
  {
   "cell_type": "markdown",
   "metadata": {},
   "source": [
    "# Create GrowthPlate object and describe"
   ]
  },
  {
   "cell_type": "code",
   "execution_count": 19,
   "metadata": {
    "ExecuteTime": {
     "end_time": "2020-02-07T19:01:02.279214Z",
     "start_time": "2020-02-07T19:01:02.253962Z"
    }
   },
   "outputs": [],
   "source": [
    "# define plate object and prepare it for analysis\n",
    "plate = growth.GrowthPlate(data=data,key=summary,control='A1');"
   ]
  },
  {
   "cell_type": "code",
   "execution_count": 20,
   "metadata": {
    "ExecuteTime": {
     "end_time": "2020-02-07T19:01:02.506569Z",
     "start_time": "2020-02-07T19:01:02.481117Z"
    }
   },
   "outputs": [
    {
     "data": {
      "text/html": [
       "<div>\n",
       "<style scoped>\n",
       "    .dataframe tbody tr th:only-of-type {\n",
       "        vertical-align: middle;\n",
       "    }\n",
       "\n",
       "    .dataframe tbody tr th {\n",
       "        vertical-align: top;\n",
       "    }\n",
       "\n",
       "    .dataframe thead th {\n",
       "        text-align: right;\n",
       "    }\n",
       "</style>\n",
       "<table border=\"1\" class=\"dataframe\">\n",
       "  <thead>\n",
       "    <tr style=\"text-align: right;\">\n",
       "      <th></th>\n",
       "      <th>Time</th>\n",
       "    </tr>\n",
       "  </thead>\n",
       "  <tbody>\n",
       "    <tr>\n",
       "      <th>0</th>\n",
       "      <td>0</td>\n",
       "    </tr>\n",
       "    <tr>\n",
       "      <th>1</th>\n",
       "      <td>600</td>\n",
       "    </tr>\n",
       "    <tr>\n",
       "      <th>2</th>\n",
       "      <td>1200</td>\n",
       "    </tr>\n",
       "    <tr>\n",
       "      <th>3</th>\n",
       "      <td>1800</td>\n",
       "    </tr>\n",
       "    <tr>\n",
       "      <th>4</th>\n",
       "      <td>2400</td>\n",
       "    </tr>\n",
       "  </tbody>\n",
       "</table>\n",
       "</div>"
      ],
      "text/plain": [
       "   Time\n",
       "0     0\n",
       "1   600\n",
       "2  1200\n",
       "3  1800\n",
       "4  2400"
      ]
     },
     "execution_count": 20,
     "metadata": {},
     "output_type": "execute_result"
    }
   ],
   "source": [
    "plate.time.head()"
   ]
  },
  {
   "cell_type": "code",
   "execution_count": 21,
   "metadata": {
    "ExecuteTime": {
     "end_time": "2020-02-07T19:01:02.790713Z",
     "start_time": "2020-02-07T19:01:02.707078Z"
    }
   },
   "outputs": [
    {
     "data": {
      "text/html": [
       "<div>\n",
       "<style scoped>\n",
       "    .dataframe tbody tr th:only-of-type {\n",
       "        vertical-align: middle;\n",
       "    }\n",
       "\n",
       "    .dataframe tbody tr th {\n",
       "        vertical-align: top;\n",
       "    }\n",
       "\n",
       "    .dataframe thead th {\n",
       "        text-align: right;\n",
       "    }\n",
       "</style>\n",
       "<table border=\"1\" class=\"dataframe\">\n",
       "  <thead>\n",
       "    <tr style=\"text-align: right;\">\n",
       "      <th>Well</th>\n",
       "      <th>A1</th>\n",
       "      <th>A2</th>\n",
       "      <th>A3</th>\n",
       "      <th>A4</th>\n",
       "      <th>A5</th>\n",
       "      <th>A6</th>\n",
       "      <th>A7</th>\n",
       "      <th>A8</th>\n",
       "      <th>A9</th>\n",
       "      <th>A10</th>\n",
       "      <th>...</th>\n",
       "      <th>H3</th>\n",
       "      <th>H4</th>\n",
       "      <th>H5</th>\n",
       "      <th>H6</th>\n",
       "      <th>H7</th>\n",
       "      <th>H8</th>\n",
       "      <th>H9</th>\n",
       "      <th>H10</th>\n",
       "      <th>H11</th>\n",
       "      <th>H12</th>\n",
       "    </tr>\n",
       "  </thead>\n",
       "  <tbody>\n",
       "    <tr>\n",
       "      <th>0</th>\n",
       "      <td>0.277</td>\n",
       "      <td>0.282</td>\n",
       "      <td>0.275</td>\n",
       "      <td>0.270</td>\n",
       "      <td>0.269</td>\n",
       "      <td>0.265</td>\n",
       "      <td>0.257</td>\n",
       "      <td>0.248</td>\n",
       "      <td>0.271</td>\n",
       "      <td>0.265</td>\n",
       "      <td>...</td>\n",
       "      <td>0.268</td>\n",
       "      <td>0.266</td>\n",
       "      <td>0.263</td>\n",
       "      <td>0.253</td>\n",
       "      <td>0.253</td>\n",
       "      <td>0.246</td>\n",
       "      <td>0.259</td>\n",
       "      <td>0.259</td>\n",
       "      <td>0.258</td>\n",
       "      <td>0.268</td>\n",
       "    </tr>\n",
       "    <tr>\n",
       "      <th>1</th>\n",
       "      <td>0.275</td>\n",
       "      <td>0.281</td>\n",
       "      <td>0.283</td>\n",
       "      <td>0.269</td>\n",
       "      <td>0.268</td>\n",
       "      <td>0.263</td>\n",
       "      <td>0.254</td>\n",
       "      <td>0.244</td>\n",
       "      <td>0.267</td>\n",
       "      <td>0.260</td>\n",
       "      <td>...</td>\n",
       "      <td>0.279</td>\n",
       "      <td>0.279</td>\n",
       "      <td>0.278</td>\n",
       "      <td>0.270</td>\n",
       "      <td>0.263</td>\n",
       "      <td>0.256</td>\n",
       "      <td>0.268</td>\n",
       "      <td>0.262</td>\n",
       "      <td>0.261</td>\n",
       "      <td>0.270</td>\n",
       "    </tr>\n",
       "    <tr>\n",
       "      <th>2</th>\n",
       "      <td>0.279</td>\n",
       "      <td>0.286</td>\n",
       "      <td>0.276</td>\n",
       "      <td>0.272</td>\n",
       "      <td>0.273</td>\n",
       "      <td>0.268</td>\n",
       "      <td>0.260</td>\n",
       "      <td>0.248</td>\n",
       "      <td>0.271</td>\n",
       "      <td>0.265</td>\n",
       "      <td>...</td>\n",
       "      <td>0.274</td>\n",
       "      <td>0.274</td>\n",
       "      <td>0.277</td>\n",
       "      <td>0.262</td>\n",
       "      <td>0.259</td>\n",
       "      <td>0.256</td>\n",
       "      <td>0.266</td>\n",
       "      <td>0.263</td>\n",
       "      <td>0.261</td>\n",
       "      <td>0.271</td>\n",
       "    </tr>\n",
       "    <tr>\n",
       "      <th>3</th>\n",
       "      <td>0.280</td>\n",
       "      <td>0.287</td>\n",
       "      <td>0.288</td>\n",
       "      <td>0.272</td>\n",
       "      <td>0.275</td>\n",
       "      <td>0.269</td>\n",
       "      <td>0.263</td>\n",
       "      <td>0.252</td>\n",
       "      <td>0.275</td>\n",
       "      <td>0.270</td>\n",
       "      <td>...</td>\n",
       "      <td>0.271</td>\n",
       "      <td>0.273</td>\n",
       "      <td>0.281</td>\n",
       "      <td>0.260</td>\n",
       "      <td>0.258</td>\n",
       "      <td>0.260</td>\n",
       "      <td>0.266</td>\n",
       "      <td>0.265</td>\n",
       "      <td>0.260</td>\n",
       "      <td>0.271</td>\n",
       "    </tr>\n",
       "    <tr>\n",
       "      <th>4</th>\n",
       "      <td>0.289</td>\n",
       "      <td>0.294</td>\n",
       "      <td>0.305</td>\n",
       "      <td>0.279</td>\n",
       "      <td>0.284</td>\n",
       "      <td>0.277</td>\n",
       "      <td>0.268</td>\n",
       "      <td>0.256</td>\n",
       "      <td>0.279</td>\n",
       "      <td>0.273</td>\n",
       "      <td>...</td>\n",
       "      <td>0.283</td>\n",
       "      <td>0.286</td>\n",
       "      <td>0.304</td>\n",
       "      <td>0.271</td>\n",
       "      <td>0.269</td>\n",
       "      <td>0.272</td>\n",
       "      <td>0.276</td>\n",
       "      <td>0.272</td>\n",
       "      <td>0.265</td>\n",
       "      <td>0.277</td>\n",
       "    </tr>\n",
       "  </tbody>\n",
       "</table>\n",
       "<p>5 rows × 96 columns</p>\n",
       "</div>"
      ],
      "text/plain": [
       "Well     A1     A2     A3     A4     A5     A6     A7     A8     A9    A10  \\\n",
       "0     0.277  0.282  0.275  0.270  0.269  0.265  0.257  0.248  0.271  0.265   \n",
       "1     0.275  0.281  0.283  0.269  0.268  0.263  0.254  0.244  0.267  0.260   \n",
       "2     0.279  0.286  0.276  0.272  0.273  0.268  0.260  0.248  0.271  0.265   \n",
       "3     0.280  0.287  0.288  0.272  0.275  0.269  0.263  0.252  0.275  0.270   \n",
       "4     0.289  0.294  0.305  0.279  0.284  0.277  0.268  0.256  0.279  0.273   \n",
       "\n",
       "Well  ...     H3     H4     H5     H6     H7     H8     H9    H10    H11  \\\n",
       "0     ...  0.268  0.266  0.263  0.253  0.253  0.246  0.259  0.259  0.258   \n",
       "1     ...  0.279  0.279  0.278  0.270  0.263  0.256  0.268  0.262  0.261   \n",
       "2     ...  0.274  0.274  0.277  0.262  0.259  0.256  0.266  0.263  0.261   \n",
       "3     ...  0.271  0.273  0.281  0.260  0.258  0.260  0.266  0.265  0.260   \n",
       "4     ...  0.283  0.286  0.304  0.271  0.269  0.272  0.276  0.272  0.265   \n",
       "\n",
       "Well    H12  \n",
       "0     0.268  \n",
       "1     0.270  \n",
       "2     0.271  \n",
       "3     0.271  \n",
       "4     0.277  \n",
       "\n",
       "[5 rows x 96 columns]"
      ]
     },
     "execution_count": 21,
     "metadata": {},
     "output_type": "execute_result"
    }
   ],
   "source": [
    "plate.data.head()"
   ]
  },
  {
   "cell_type": "code",
   "execution_count": 22,
   "metadata": {
    "ExecuteTime": {
     "end_time": "2020-02-07T19:01:10.894414Z",
     "start_time": "2020-02-07T19:01:02.912326Z"
    }
   },
   "outputs": [
    {
     "name": "stdout",
     "output_type": "stream",
     "text": [
      "      0      600    1200   1800   2400   3000   3600   4200   4800   5400   \\\n",
      "Well                                                                         \n",
      "A1    0.277  0.275  0.279  0.280  0.289  0.296  0.310  0.328  0.351  0.362   \n",
      "A2    0.282  0.281  0.286  0.287  0.294  0.300  0.311  0.327  0.339  0.352   \n",
      "A3    0.275  0.283  0.276  0.288  0.305  0.327  0.355  0.388  0.429  0.470   \n",
      "A4    0.270  0.269  0.272  0.272  0.279  0.286  0.298  0.313  0.327  0.345   \n",
      "A5    0.269  0.268  0.273  0.275  0.284  0.292  0.305  0.323  0.339  0.359   \n",
      "\n",
      "      ...  54000  54600  55200  55800  56400  57000  57600  58200  58800  \\\n",
      "Well  ...                                                                  \n",
      "A1    ...  0.478  0.473  0.476  0.477  0.474  0.476  0.471  0.474  0.476   \n",
      "A2    ...  0.489  0.484  0.489  0.495  0.491  0.492  0.483  0.488  0.493   \n",
      "A3    ...  0.535  0.520  0.508  0.495  0.483  0.472  0.461  0.451  0.441   \n",
      "A4    ...  0.470  0.469  0.469  0.470  0.469  0.471  0.467  0.469  0.472   \n",
      "A5    ...  0.542  0.540  0.541  0.539  0.538  0.539  0.539  0.539  0.538   \n",
      "\n",
      "      59400  \n",
      "Well         \n",
      "A1    0.474  \n",
      "A2    0.490  \n",
      "A3    0.433  \n",
      "A4    0.473  \n",
      "A5    0.538  \n",
      "\n",
      "[5 rows x 100 columns]\n"
     ]
    },
    {
     "data": {
      "image/png": "[encoded data removed]",
      "text/plain": [
       "<Figure size 864x576 with 96 Axes>"
      ]
     },
     "execution_count": 22,
     "metadata": {},
     "output_type": "execute_result"
    }
   ],
   "source": [
    "fig,ax = plate.plot();\n",
    "fig"
   ]
  },
  {
   "cell_type": "markdown",
   "metadata": {},
   "source": [
    "# Create GrowthData object and describe"
   ]
  },
  {
   "cell_type": "code",
   "execution_count": 23,
   "metadata": {
    "ExecuteTime": {
     "end_time": "2020-02-07T19:01:11.077768Z",
     "start_time": "2020-02-07T19:01:10.950084Z"
    }
   },
   "outputs": [
    {
     "data": {
      "text/plain": [
       "smoothed      False\n",
       "floored       False\n",
       "controlled    False\n",
       "logged        False\n",
       "dtype: bool"
      ]
     },
     "execution_count": 23,
     "metadata": {},
     "output_type": "execute_result"
    }
   ],
   "source": [
    "plate.mods"
   ]
  },
  {
   "cell_type": "code",
   "execution_count": 24,
   "metadata": {
    "ExecuteTime": {
     "end_time": "2020-02-07T19:01:11.610904Z",
     "start_time": "2020-02-07T19:01:11.106007Z"
    }
   },
   "outputs": [
    {
     "data": {
      "image/png": "[encoded data removed]",
      "text/plain": [
       "<Figure size 288x288 with 1 Axes>"
      ]
     },
     "metadata": {},
     "output_type": "display_data"
    }
   ],
   "source": [
    "fig,ax = plate.extractGrowthData({'Substrate':['alpha-D-Glucose']}).plot()\n",
    "\n",
    "ax.set_ylim([-0.03,1.63])\n",
    "ax.set_xlim([-1500,62000])\n",
    "\n",
    "[ii.set(rotation=90) for ii in ax.get_xticklabels()];\n",
    "\n",
    "ax.set_xlabel('Time (seconds)');"
   ]
  },
  {
   "cell_type": "code",
   "execution_count": 25,
   "metadata": {
    "ExecuteTime": {
     "end_time": "2020-02-07T19:01:11.722046Z",
     "start_time": "2020-02-07T19:01:11.621174Z"
    }
   },
   "outputs": [
    {
     "data": {
      "text/plain": [
       "smoothed      False\n",
       "floored       False\n",
       "controlled    False\n",
       "logged        False\n",
       "dtype: bool"
      ]
     },
     "execution_count": 25,
     "metadata": {},
     "output_type": "execute_result"
    }
   ],
   "source": [
    "plate.mods"
   ]
  },
  {
   "cell_type": "markdown",
   "metadata": {},
   "source": [
    "## Conver Time to minutes"
   ]
  },
  {
   "cell_type": "code",
   "execution_count": 26,
   "metadata": {
    "ExecuteTime": {
     "end_time": "2020-02-07T19:01:12.410508Z",
     "start_time": "2020-02-07T19:01:11.741904Z"
    }
   },
   "outputs": [
    {
     "data": {
      "image/png": "[encoded data removed]",
      "text/plain": [
       "<Figure size 288x288 with 1 Axes>"
      ]
     },
     "metadata": {},
     "output_type": "display_data"
    }
   ],
   "source": [
    "plate.convertTimeUnits()\n",
    "\n",
    "fig,ax = plate.extractGrowthData({'Substrate':['alpha-D-Glucose']}).plot()\n",
    "\n",
    "ax.set_ylim([-0.03,1.63])\n",
    "ax.set_xlim([-0.4,20.4])\n",
    "\n",
    "ax.set_xlabel('Time (hours)');"
   ]
  },
  {
   "cell_type": "code",
   "execution_count": 27,
   "metadata": {
    "ExecuteTime": {
     "end_time": "2020-02-07T19:01:12.643032Z",
     "start_time": "2020-02-07T19:01:12.469954Z"
    }
   },
   "outputs": [
    {
     "data": {
      "text/plain": [
       "smoothed      False\n",
       "floored       False\n",
       "controlled    False\n",
       "logged        False\n",
       "dtype: bool"
      ]
     },
     "execution_count": 27,
     "metadata": {},
     "output_type": "execute_result"
    }
   ],
   "source": [
    "plate.mods"
   ]
  },
  {
   "cell_type": "markdown",
   "metadata": {},
   "source": [
    "## Smooth OD data"
   ]
  },
  {
   "cell_type": "code",
   "execution_count": 28,
   "metadata": {
    "ExecuteTime": {
     "end_time": "2020-02-07T19:01:13.865976Z",
     "start_time": "2020-02-07T19:01:12.675163Z"
    }
   },
   "outputs": [
    {
     "data": {
      "image/png": "[encoded data removed]",
      "text/plain": [
       "<Figure size 288x288 with 1 Axes>"
      ]
     },
     "metadata": {},
     "output_type": "display_data"
    }
   ],
   "source": [
    "plate.smoothData();\n",
    "\n",
    "fig,ax = plate.extractGrowthData({'Substrate':['alpha-D-Glucose']}).plot();\n",
    "\n",
    "ax.set_ylim([-0.03,1.63])\n",
    "ax.set_xlim([-0.4,20.4])\n",
    "\n",
    "ax.set_xlabel('Time (hours)');"
   ]
  },
  {
   "cell_type": "code",
   "execution_count": 29,
   "metadata": {
    "ExecuteTime": {
     "end_time": "2020-02-07T19:01:13.945779Z",
     "start_time": "2020-02-07T19:01:13.883852Z"
    }
   },
   "outputs": [
    {
     "data": {
      "text/plain": [
       "smoothed       True\n",
       "floored       False\n",
       "controlled    False\n",
       "logged        False\n",
       "dtype: bool"
      ]
     },
     "execution_count": 29,
     "metadata": {},
     "output_type": "execute_result"
    }
   ],
   "source": [
    "plate.mods"
   ]
  },
  {
   "cell_type": "markdown",
   "metadata": {},
   "source": [
    "## Transform with natural logarithm"
   ]
  },
  {
   "cell_type": "code",
   "execution_count": 30,
   "metadata": {
    "ExecuteTime": {
     "end_time": "2020-02-07T19:01:14.634656Z",
     "start_time": "2020-02-07T19:01:13.950175Z"
    }
   },
   "outputs": [
    {
     "data": {
      "image/png": "[encoded data removed]",
      "text/plain": [
       "<Figure size 288x288 with 1 Axes>"
      ]
     },
     "metadata": {},
     "output_type": "display_data"
    }
   ],
   "source": [
    "plate.logData();\n",
    "\n",
    "fig,ax = plate.extractGrowthData({'Substrate':['alpha-D-Glucose']}).plot();\n",
    "\n",
    "ax.set_ylim([-1.43,0.23])\n",
    "ax.set_xlim([-0.4,20.4])\n",
    "\n",
    "ax.set_xlabel('Time (hours)');"
   ]
  },
  {
   "cell_type": "code",
   "execution_count": 31,
   "metadata": {
    "ExecuteTime": {
     "end_time": "2020-02-07T19:01:14.665889Z",
     "start_time": "2020-02-07T19:01:14.645445Z"
    }
   },
   "outputs": [
    {
     "data": {
      "text/plain": [
       "smoothed       True\n",
       "floored       False\n",
       "controlled    False\n",
       "logged         True\n",
       "dtype: bool"
      ]
     },
     "execution_count": 31,
     "metadata": {},
     "output_type": "execute_result"
    }
   ],
   "source": [
    "plate.mods"
   ]
  },
  {
   "cell_type": "markdown",
   "metadata": {},
   "source": [
    "## Scale OD to the first time point log(OD)=0 <--> OD=1"
   ]
  },
  {
   "cell_type": "code",
   "execution_count": 32,
   "metadata": {
    "ExecuteTime": {
     "end_time": "2020-02-07T19:01:15.450489Z",
     "start_time": "2020-02-07T19:01:14.679625Z"
    }
   },
   "outputs": [
    {
     "data": {
      "text/plain": [
       "(-0.4, 20.4)"
      ]
     },
     "execution_count": 32,
     "metadata": {},
     "output_type": "execute_result"
    },
    {
     "data": {
      "image/png": "[encoded data removed]",
      "text/plain": [
       "<Figure size 288x288 with 1 Axes>"
      ]
     },
     "metadata": {},
     "output_type": "display_data"
    }
   ],
   "source": [
    "plate.subtractBaseline();\n",
    "\n",
    "fig,ax = plate.extractGrowthData({'Substrate':['alpha-D-Glucose']}).plot();\n",
    "\n",
    "ax.set_ylim([-0.03,1.63])\n",
    "ax.set_xlim([-0.4,20.4])"
   ]
  },
  {
   "cell_type": "code",
   "execution_count": 33,
   "metadata": {
    "ExecuteTime": {
     "end_time": "2020-02-07T19:01:15.487196Z",
     "start_time": "2020-02-07T19:01:15.464244Z"
    }
   },
   "outputs": [
    {
     "data": {
      "text/plain": [
       "smoothed       True\n",
       "floored        True\n",
       "controlled    False\n",
       "logged         True\n",
       "dtype: bool"
      ]
     },
     "execution_count": 33,
     "metadata": {},
     "output_type": "execute_result"
    }
   ],
   "source": [
    "plate.mods"
   ]
  },
  {
   "cell_type": "markdown",
   "metadata": {},
   "source": [
    "## Subtract negative control OD at each time point"
   ]
  },
  {
   "cell_type": "code",
   "execution_count": 34,
   "metadata": {
    "ExecuteTime": {
     "end_time": "2020-02-07T19:01:16.219086Z",
     "start_time": "2020-02-07T19:01:15.497841Z"
    }
   },
   "outputs": [
    {
     "data": {
      "text/plain": [
       "(-0.4, 20.4)"
      ]
     },
     "execution_count": 34,
     "metadata": {},
     "output_type": "execute_result"
    },
    {
     "data": {
      "image/png": "[encoded data removed]",
      "text/plain": [
       "<Figure size 288x288 with 1 Axes>"
      ]
     },
     "metadata": {},
     "output_type": "display_data"
    }
   ],
   "source": [
    "plate.subtractControl();\n",
    "\n",
    "fig,ax = plate.extractGrowthData({'Substrate':['alpha-D-Glucose']}).plot();\n",
    "\n",
    "ax.set_ylim([-0.03,1.63])\n",
    "ax.set_xlim([-0.4,20.4])"
   ]
  },
  {
   "cell_type": "code",
   "execution_count": 35,
   "metadata": {
    "ExecuteTime": {
     "end_time": "2020-02-07T19:01:16.250107Z",
     "start_time": "2020-02-07T19:01:16.229840Z"
    }
   },
   "outputs": [
    {
     "data": {
      "text/plain": [
       "smoothed      True\n",
       "floored       True\n",
       "controlled    True\n",
       "logged        True\n",
       "dtype: bool"
      ]
     },
     "execution_count": 35,
     "metadata": {},
     "output_type": "execute_result"
    }
   ],
   "source": [
    "plate.mods"
   ]
  },
  {
   "cell_type": "markdown",
   "metadata": {},
   "source": [
    "## Fit growth curves with classical approach of Gompertz"
   ]
  },
  {
   "cell_type": "code",
   "execution_count": 36,
   "metadata": {
    "ExecuteTime": {
     "end_time": "2020-02-07T19:01:16.291589Z",
     "start_time": "2020-02-07T19:01:16.260193Z"
    }
   },
   "outputs": [
    {
     "data": {
      "text/plain": [
       "<module 'libs.growth' from '../libs/growth.py'>"
      ]
     },
     "execution_count": 36,
     "metadata": {},
     "output_type": "execute_result"
    }
   ],
   "source": [
    "import imp\n",
    "imp.reload(growth)"
   ]
  },
  {
   "cell_type": "code",
   "execution_count": 37,
   "metadata": {
    "ExecuteTime": {
     "end_time": "2020-02-07T19:01:18.399755Z",
     "start_time": "2020-02-07T19:01:16.921303Z"
    }
   },
   "outputs": [
    {
     "name": "stderr",
     "output_type": "stream",
     "text": [
      " /Users/firasmidani/.conda/envs/RABPY/lib/python2.7/site-packages/scipy/optimize/minpack.py:787: OptimizeWarning:Covariance of the parameters could not be estimated\n"
     ]
    },
    {
     "name": "stdout",
     "output_type": "stream",
     "text": [
      "Doubling Rate is 150.61 minutes\n"
     ]
    },
    {
     "data": {
      "text/html": [
       "<div>\n",
       "<style scoped>\n",
       "    .dataframe tbody tr th:only-of-type {\n",
       "        vertical-align: middle;\n",
       "    }\n",
       "\n",
       "    .dataframe tbody tr th {\n",
       "        vertical-align: top;\n",
       "    }\n",
       "\n",
       "    .dataframe thead th {\n",
       "        text-align: right;\n",
       "    }\n",
       "</style>\n",
       "<table border=\"1\" class=\"dataframe\">\n",
       "  <thead>\n",
       "    <tr style=\"text-align: right;\">\n",
       "      <th></th>\n",
       "      <th>Well</th>\n",
       "      <th>Letter</th>\n",
       "      <th>Plate_ID</th>\n",
       "      <th>Row</th>\n",
       "      <th>Column</th>\n",
       "      <th>Isolate</th>\n",
       "      <th>Substrate</th>\n",
       "      <th>Max_OD</th>\n",
       "      <th>Fold_Change</th>\n",
       "      <th>classical_r</th>\n",
       "      <th>classical_K</th>\n",
       "      <th>classical_d</th>\n",
       "      <th>classical_AUC</th>\n",
       "      <th>classical_td</th>\n",
       "      <th>classical_max</th>\n",
       "    </tr>\n",
       "    <tr>\n",
       "      <th>Well</th>\n",
       "      <th></th>\n",
       "      <th></th>\n",
       "      <th></th>\n",
       "      <th></th>\n",
       "      <th></th>\n",
       "      <th></th>\n",
       "      <th></th>\n",
       "      <th></th>\n",
       "      <th></th>\n",
       "      <th></th>\n",
       "      <th></th>\n",
       "      <th></th>\n",
       "      <th></th>\n",
       "      <th></th>\n",
       "      <th></th>\n",
       "    </tr>\n",
       "  </thead>\n",
       "  <tbody>\n",
       "    <tr>\n",
       "      <th>C9</th>\n",
       "      <td>C9</td>\n",
       "      <td>C</td>\n",
       "      <td>PRB954_PM1-1</td>\n",
       "      <td>3</td>\n",
       "      <td>9</td>\n",
       "      <td>PRB954</td>\n",
       "      <td>alpha-D-Glucose</td>\n",
       "      <td>0.880712</td>\n",
       "      <td>4.108523</td>\n",
       "      <td>0.276134</td>\n",
       "      <td>0.702891</td>\n",
       "      <td>0.770356</td>\n",
       "      <td>10.826688</td>\n",
       "      <td>150.611298</td>\n",
       "      <td>0.750585</td>\n",
       "    </tr>\n",
       "  </tbody>\n",
       "</table>\n",
       "</div>"
      ],
      "text/plain": [
       "     Well Letter      Plate_ID Row Column Isolate        Substrate    Max_OD  \\\n",
       "Well                                                                           \n",
       "C9     C9      C  PRB954_PM1-1   3      9  PRB954  alpha-D-Glucose  0.880712   \n",
       "\n",
       "      Fold_Change  classical_r  classical_K  classical_d  classical_AUC  \\\n",
       "Well                                                                      \n",
       "C9       4.108523     0.276134     0.702891     0.770356      10.826688   \n",
       "\n",
       "      classical_td  classical_max  \n",
       "Well                               \n",
       "C9      150.611298       0.750585  "
      ]
     },
     "execution_count": 37,
     "metadata": {},
     "output_type": "execute_result"
    },
    {
     "data": {
      "image/png": "[encoded data removed]",
      "text/plain": [
       "<Figure size 288x288 with 1 Axes>"
      ]
     },
     "metadata": {},
     "output_type": "display_data"
    }
   ],
   "source": [
    "\n",
    "glucose = plate.extractGrowthData({'Substrate':['alpha-D-Glucose']})\n",
    "\n",
    "gompertz = growth.GrowthMetrics(glucose);\n",
    "gompertz.fitClassical(classical.gompertz)\n",
    "gompertz.inferClassicalDynamics()\n",
    "gompertz.predictClassical()\n",
    "\n",
    "fig,ax = gompertz.plot();\n",
    "\n",
    "ax.set_ylim([-0.03,1.32])\n",
    "ax.set_xlim([-0.4,20.4])\n",
    "\n",
    "print 'Doubling Rate is %0.2f minutes' % gompertz.key['classical_td']\n",
    "\n",
    "gompertz.key"
   ]
  },
  {
   "cell_type": "markdown",
   "metadata": {},
   "source": [
    "## Fit growth curve with non-parameteric GP Regression approach"
   ]
  },
  {
   "cell_type": "code",
   "execution_count": 38,
   "metadata": {
    "ExecuteTime": {
     "end_time": "2020-02-07T19:01:20.788311Z",
     "start_time": "2020-02-07T19:01:18.430248Z"
    }
   },
   "outputs": [
    {
     "name": "stdout",
     "output_type": "stream",
     "text": [
      "Doubling Rate is 190.61 minutes\n"
     ]
    },
    {
     "name": "stderr",
     "output_type": "stream",
     "text": [
      " ../libs/growth.py:727: RuntimeWarning:invalid value encountered in sqrt\n"
     ]
    },
    {
     "data": {
      "text/html": [
       "<div>\n",
       "<style scoped>\n",
       "    .dataframe tbody tr th:only-of-type {\n",
       "        vertical-align: middle;\n",
       "    }\n",
       "\n",
       "    .dataframe tbody tr th {\n",
       "        vertical-align: top;\n",
       "    }\n",
       "\n",
       "    .dataframe thead th {\n",
       "        text-align: right;\n",
       "    }\n",
       "</style>\n",
       "<table border=\"1\" class=\"dataframe\">\n",
       "  <thead>\n",
       "    <tr style=\"text-align: right;\">\n",
       "      <th></th>\n",
       "      <th>Well</th>\n",
       "      <th>Letter</th>\n",
       "      <th>Plate_ID</th>\n",
       "      <th>Row</th>\n",
       "      <th>Column</th>\n",
       "      <th>Isolate</th>\n",
       "      <th>Substrate</th>\n",
       "      <th>Max_OD</th>\n",
       "      <th>Fold_Change</th>\n",
       "      <th>GP_r</th>\n",
       "      <th>GP_K</th>\n",
       "      <th>GP_d</th>\n",
       "      <th>GP_AUC</th>\n",
       "      <th>GP_td</th>\n",
       "      <th>GP_max</th>\n",
       "    </tr>\n",
       "    <tr>\n",
       "      <th>Well</th>\n",
       "      <th></th>\n",
       "      <th></th>\n",
       "      <th></th>\n",
       "      <th></th>\n",
       "      <th></th>\n",
       "      <th></th>\n",
       "      <th></th>\n",
       "      <th></th>\n",
       "      <th></th>\n",
       "      <th></th>\n",
       "      <th></th>\n",
       "      <th></th>\n",
       "      <th></th>\n",
       "      <th></th>\n",
       "      <th></th>\n",
       "    </tr>\n",
       "  </thead>\n",
       "  <tbody>\n",
       "    <tr>\n",
       "      <th>C9</th>\n",
       "      <td>C9</td>\n",
       "      <td>C</td>\n",
       "      <td>PRB954_PM1-1</td>\n",
       "      <td>3</td>\n",
       "      <td>9</td>\n",
       "      <td>PRB954</td>\n",
       "      <td>alpha-D-Glucose</td>\n",
       "      <td>0.880712</td>\n",
       "      <td>4.108523</td>\n",
       "      <td>0.218193</td>\n",
       "      <td>0.917325</td>\n",
       "      <td>0.0</td>\n",
       "      <td>10.871468</td>\n",
       "      <td>190.605635</td>\n",
       "      <td>0.917325</td>\n",
       "    </tr>\n",
       "  </tbody>\n",
       "</table>\n",
       "</div>"
      ],
      "text/plain": [
       "     Well Letter      Plate_ID Row Column Isolate        Substrate    Max_OD  \\\n",
       "Well                                                                           \n",
       "C9     C9      C  PRB954_PM1-1   3      9  PRB954  alpha-D-Glucose  0.880712   \n",
       "\n",
       "      Fold_Change      GP_r      GP_K  GP_d     GP_AUC       GP_td    GP_max  \n",
       "Well                                                                          \n",
       "C9       4.108523  0.218193  0.917325   0.0  10.871468  190.605635  0.917325  "
      ]
     },
     "execution_count": 38,
     "metadata": {},
     "output_type": "execute_result"
    },
    {
     "data": {
      "image/png": "[encoded data removed]",
      "text/plain": [
       "<Figure size 288x288 with 1 Axes>"
      ]
     },
     "metadata": {},
     "output_type": "display_data"
    }
   ],
   "source": [
    "glucose = plate.extractGrowthData({'Substrate':['alpha-D-Glucose']})\n",
    "\n",
    "gpr = growth.GrowthMetrics(glucose);\n",
    "gpr.fitGP()\n",
    "gpr.inferGPDynamics()\n",
    "gpr.predictGP()\n",
    "\n",
    "fig,ax = gpr.plot();\n",
    "\n",
    "ax.set_ylim([-0.03,1.32])\n",
    "ax.set_xlim([-0.4,20.4])\n",
    "\n",
    "print 'Doubling Rate is %0.2f minutes' % gpr.key['GP_td']\n",
    "\n",
    "gpr.key"
   ]
  },
  {
   "cell_type": "markdown",
   "metadata": {},
   "source": [
    "# Summarize dynamics in all wells of the plate"
   ]
  },
  {
   "cell_type": "code",
   "execution_count": 39,
   "metadata": {
    "ExecuteTime": {
     "end_time": "2020-02-07T19:01:20.919418Z",
     "start_time": "2020-02-07T19:01:20.841587Z"
    }
   },
   "outputs": [
    {
     "data": {
      "text/html": [
       "<div>\n",
       "<style scoped>\n",
       "    .dataframe tbody tr th:only-of-type {\n",
       "        vertical-align: middle;\n",
       "    }\n",
       "\n",
       "    .dataframe tbody tr th {\n",
       "        vertical-align: top;\n",
       "    }\n",
       "\n",
       "    .dataframe thead th {\n",
       "        text-align: right;\n",
       "    }\n",
       "</style>\n",
       "<table border=\"1\" class=\"dataframe\">\n",
       "  <thead>\n",
       "    <tr style=\"text-align: right;\">\n",
       "      <th></th>\n",
       "      <th>GP_r</th>\n",
       "      <th>GP_K</th>\n",
       "      <th>GP_AUC</th>\n",
       "      <th>GP_td</th>\n",
       "      <th>classical_r</th>\n",
       "      <th>classical_K</th>\n",
       "      <th>classical_AUC</th>\n",
       "      <th>classical_td</th>\n",
       "    </tr>\n",
       "    <tr>\n",
       "      <th>Well</th>\n",
       "      <th></th>\n",
       "      <th></th>\n",
       "      <th></th>\n",
       "      <th></th>\n",
       "      <th></th>\n",
       "      <th></th>\n",
       "      <th></th>\n",
       "      <th></th>\n",
       "    </tr>\n",
       "  </thead>\n",
       "  <tbody>\n",
       "    <tr>\n",
       "      <th>A1</th>\n",
       "      <td>NaN</td>\n",
       "      <td>NaN</td>\n",
       "      <td>NaN</td>\n",
       "      <td>NaN</td>\n",
       "      <td>NaN</td>\n",
       "      <td>NaN</td>\n",
       "      <td>NaN</td>\n",
       "      <td>NaN</td>\n",
       "    </tr>\n",
       "    <tr>\n",
       "      <th>A2</th>\n",
       "      <td>NaN</td>\n",
       "      <td>NaN</td>\n",
       "      <td>NaN</td>\n",
       "      <td>NaN</td>\n",
       "      <td>NaN</td>\n",
       "      <td>NaN</td>\n",
       "      <td>NaN</td>\n",
       "      <td>NaN</td>\n",
       "    </tr>\n",
       "    <tr>\n",
       "      <th>A3</th>\n",
       "      <td>NaN</td>\n",
       "      <td>NaN</td>\n",
       "      <td>NaN</td>\n",
       "      <td>NaN</td>\n",
       "      <td>NaN</td>\n",
       "      <td>NaN</td>\n",
       "      <td>NaN</td>\n",
       "      <td>NaN</td>\n",
       "    </tr>\n",
       "    <tr>\n",
       "      <th>A4</th>\n",
       "      <td>NaN</td>\n",
       "      <td>NaN</td>\n",
       "      <td>NaN</td>\n",
       "      <td>NaN</td>\n",
       "      <td>NaN</td>\n",
       "      <td>NaN</td>\n",
       "      <td>NaN</td>\n",
       "      <td>NaN</td>\n",
       "    </tr>\n",
       "    <tr>\n",
       "      <th>A5</th>\n",
       "      <td>NaN</td>\n",
       "      <td>NaN</td>\n",
       "      <td>NaN</td>\n",
       "      <td>NaN</td>\n",
       "      <td>NaN</td>\n",
       "      <td>NaN</td>\n",
       "      <td>NaN</td>\n",
       "      <td>NaN</td>\n",
       "    </tr>\n",
       "  </tbody>\n",
       "</table>\n",
       "</div>"
      ],
      "text/plain": [
       "     GP_r GP_K GP_AUC GP_td classical_r classical_K classical_AUC classical_td\n",
       "Well                                                                          \n",
       "A1    NaN  NaN    NaN   NaN         NaN         NaN           NaN          NaN\n",
       "A2    NaN  NaN    NaN   NaN         NaN         NaN           NaN          NaN\n",
       "A3    NaN  NaN    NaN   NaN         NaN         NaN           NaN          NaN\n",
       "A4    NaN  NaN    NaN   NaN         NaN         NaN           NaN          NaN\n",
       "A5    NaN  NaN    NaN   NaN         NaN         NaN           NaN          NaN"
      ]
     },
     "execution_count": 39,
     "metadata": {},
     "output_type": "execute_result"
    }
   ],
   "source": [
    "# initialize pd.DataFrame to store summary metrics/statistics\n",
    "growth_summary = pd.DataFrame(index=summary.index,\n",
    "                              columns=['GP_r','GP_K','GP_AUC','GP_td',\n",
    "                                       'classical_r','classical_K','classical_AUC','classical_td']);\n",
    "growth_summary.head()"
   ]
  },
  {
   "cell_type": "code",
   "execution_count": 40,
   "metadata": {
    "ExecuteTime": {
     "end_time": "2020-02-07T19:05:38.566600Z",
     "start_time": "2020-02-07T19:01:20.934704Z"
    }
   },
   "outputs": [
    {
     "name": "stdout",
     "output_type": "stream",
     "text": [
      "01 ."
     ]
    },
    {
     "name": "stderr",
     "output_type": "stream",
     "text": [
      " ../libs/classical.py:100: RuntimeWarning:divide by zero encountered in double_scalars\n",
      " ../libs/classical.py:100: RuntimeWarning:invalid value encountered in multiply\n",
      " ../libs/classical.py:100: RuntimeWarning:invalid value encountered in double_scalars\n"
     ]
    },
    {
     "name": "stdout",
     "output_type": "stream",
     "text": [
      " . . . . . . . . . . . \n",
      "02 . . . . . . . . . . . . \n",
      "03 . . . . . . . . . . . . \n",
      "04 . . . . . . . . . ."
     ]
    },
    {
     "name": "stderr",
     "output_type": "stream",
     "text": [
      " /Users/firasmidani/.conda/envs/RABPY/lib/python2.7/site-packages/GPy/kern/src/stationary.py:166: RuntimeWarning:overflow encountered in divide\n",
      " /Users/firasmidani/.conda/envs/RABPY/lib/python2.7/site-packages/GPy/kern/src/stationary.py:137: RuntimeWarning:overflow encountered in square\n",
      " /Users/firasmidani/.conda/envs/RABPY/lib/python2.7/site-packages/GPy/kern/src/stationary.py:138: RuntimeWarning:invalid value encountered in add\n"
     ]
    },
    {
     "name": "stdout",
     "output_type": "stream",
     "text": [
      " . . \n",
      "05 . . . . . . . . . . . . \n",
      "06 . . . . . . . . . . . . \n",
      "07 . . . . . . . . . . . . \n",
      "08 . . . . . . . . . . . .\n"
     ]
    }
   ],
   "source": [
    "counter = 0;\n",
    "row_count = 1; print '%02d' % row_count,\n",
    "for well in growth_summary.index:\n",
    "\n",
    "    if counter<12:\n",
    "        print '.',\n",
    "        counter += 1;\n",
    "    else:\n",
    "        row_count += 1;\n",
    "        print '\\n%02d .' % row_count,\n",
    "        counter = 1;\n",
    "\n",
    "    substrate = plate.key.loc[well,'Substrate']; #print substrate\n",
    "    od = plate.extractGrowthData({'Substrate':[substrate]}); # control is not subtracted\n",
    "    \n",
    "    cls = growth.GrowthMetrics(od)\n",
    "    cls.fitClassical(classical.gompertz)\n",
    "    cls.inferClassicalDynamics()\n",
    "\n",
    "    to_header = ['classical_r','classical_K','classical_AUC','classical_td'];\n",
    "    to_index = cls.key.index[0]\n",
    "    growth_summary.loc[to_index,to_header] = cls.key.loc[to_index,to_header].values\n",
    "\n",
    "    gpr = growth.GrowthMetrics(od)\n",
    "    gpr.fitGP()\n",
    "    gpr.inferGPDynamics()\n",
    "\n",
    "    to_header = ['GP_r','GP_K','GP_AUC','GP_td'];\n",
    "    to_index = gpr.key.index[0]\n",
    "    growth_summary.loc[to_index,to_header] = gpr.key.loc[to_index,to_header].values\n"
   ]
  },
  {
   "cell_type": "code",
   "execution_count": 42,
   "metadata": {
    "ExecuteTime": {
     "end_time": "2020-02-07T19:06:00.361387Z",
     "start_time": "2020-02-07T19:06:00.292589Z"
    }
   },
   "outputs": [
    {
     "data": {
      "text/html": [
       "<div>\n",
       "<style scoped>\n",
       "    .dataframe tbody tr th:only-of-type {\n",
       "        vertical-align: middle;\n",
       "    }\n",
       "\n",
       "    .dataframe tbody tr th {\n",
       "        vertical-align: top;\n",
       "    }\n",
       "\n",
       "    .dataframe thead th {\n",
       "        text-align: right;\n",
       "    }\n",
       "</style>\n",
       "<table border=\"1\" class=\"dataframe\">\n",
       "  <thead>\n",
       "    <tr style=\"text-align: right;\">\n",
       "      <th></th>\n",
       "      <th>Well</th>\n",
       "      <th>Letter</th>\n",
       "      <th>Plate_ID</th>\n",
       "      <th>Row</th>\n",
       "      <th>Column</th>\n",
       "      <th>Isolate</th>\n",
       "      <th>Substrate</th>\n",
       "      <th>Max_OD</th>\n",
       "      <th>Fold_Change</th>\n",
       "      <th>GP_r</th>\n",
       "      <th>GP_K</th>\n",
       "      <th>GP_AUC</th>\n",
       "      <th>GP_td</th>\n",
       "      <th>classical_r</th>\n",
       "      <th>classical_K</th>\n",
       "      <th>classical_AUC</th>\n",
       "      <th>classical_td</th>\n",
       "    </tr>\n",
       "    <tr>\n",
       "      <th>Well</th>\n",
       "      <th></th>\n",
       "      <th></th>\n",
       "      <th></th>\n",
       "      <th></th>\n",
       "      <th></th>\n",
       "      <th></th>\n",
       "      <th></th>\n",
       "      <th></th>\n",
       "      <th></th>\n",
       "      <th></th>\n",
       "      <th></th>\n",
       "      <th></th>\n",
       "      <th></th>\n",
       "      <th></th>\n",
       "      <th></th>\n",
       "      <th></th>\n",
       "      <th></th>\n",
       "    </tr>\n",
       "  </thead>\n",
       "  <tbody>\n",
       "    <tr>\n",
       "      <th>A3</th>\n",
       "      <td>A3</td>\n",
       "      <td>A</td>\n",
       "      <td>PRB954_PM1-1</td>\n",
       "      <td>1</td>\n",
       "      <td>3</td>\n",
       "      <td>PRB954</td>\n",
       "      <td>N-Acetyl-D-Glucosamine</td>\n",
       "      <td>0.758015</td>\n",
       "      <td>3.536141</td>\n",
       "      <td>0.285946</td>\n",
       "      <td>0.763807</td>\n",
       "      <td>7.16737</td>\n",
       "      <td>145.443</td>\n",
       "      <td>62.2095</td>\n",
       "      <td>-0.462551</td>\n",
       "      <td>7.17666</td>\n",
       "      <td>0.668529</td>\n",
       "    </tr>\n",
       "    <tr>\n",
       "      <th>H5</th>\n",
       "      <td>H5</td>\n",
       "      <td>H</td>\n",
       "      <td>PRB954_PM1-1</td>\n",
       "      <td>8</td>\n",
       "      <td>5</td>\n",
       "      <td>PRB954</td>\n",
       "      <td>D-Psicose</td>\n",
       "      <td>0.243431</td>\n",
       "      <td>1.135607</td>\n",
       "      <td>0.284019</td>\n",
       "      <td>0.136797</td>\n",
       "      <td>1.56914</td>\n",
       "      <td>146.43</td>\n",
       "      <td>-0.0331854</td>\n",
       "      <td>0.0396147</td>\n",
       "      <td>1.56319</td>\n",
       "      <td>-1253.23</td>\n",
       "    </tr>\n",
       "    <tr>\n",
       "      <th>C7</th>\n",
       "      <td>C7</td>\n",
       "      <td>C</td>\n",
       "      <td>PRB954_PM1-1</td>\n",
       "      <td>3</td>\n",
       "      <td>7</td>\n",
       "      <td>PRB954</td>\n",
       "      <td>D-Fructose</td>\n",
       "      <td>0.825154</td>\n",
       "      <td>3.849344</td>\n",
       "      <td>0.235521</td>\n",
       "      <td>0.899295</td>\n",
       "      <td>10.1327</td>\n",
       "      <td>176.582</td>\n",
       "      <td>0.30617</td>\n",
       "      <td>0.644048</td>\n",
       "      <td>10.1089</td>\n",
       "      <td>135.836</td>\n",
       "    </tr>\n",
       "    <tr>\n",
       "      <th>C9</th>\n",
       "      <td>C9</td>\n",
       "      <td>C</td>\n",
       "      <td>PRB954_PM1-1</td>\n",
       "      <td>3</td>\n",
       "      <td>9</td>\n",
       "      <td>PRB954</td>\n",
       "      <td>alpha-D-Glucose</td>\n",
       "      <td>0.880712</td>\n",
       "      <td>4.108523</td>\n",
       "      <td>0.218193</td>\n",
       "      <td>0.917325</td>\n",
       "      <td>10.8715</td>\n",
       "      <td>190.606</td>\n",
       "      <td>0.276134</td>\n",
       "      <td>0.702891</td>\n",
       "      <td>10.8267</td>\n",
       "      <td>150.611</td>\n",
       "    </tr>\n",
       "    <tr>\n",
       "      <th>G4</th>\n",
       "      <td>G4</td>\n",
       "      <td>G</td>\n",
       "      <td>PRB954_PM1-1</td>\n",
       "      <td>7</td>\n",
       "      <td>4</td>\n",
       "      <td>PRB954</td>\n",
       "      <td>L-Threonine</td>\n",
       "      <td>0.440850</td>\n",
       "      <td>2.056564</td>\n",
       "      <td>0.172972</td>\n",
       "      <td>0.415119</td>\n",
       "      <td>5.35975</td>\n",
       "      <td>240.436</td>\n",
       "      <td>0.186328</td>\n",
       "      <td>0.41268</td>\n",
       "      <td>5.33326</td>\n",
       "      <td>223.202</td>\n",
       "    </tr>\n",
       "    <tr>\n",
       "      <th>H12</th>\n",
       "      <td>H12</td>\n",
       "      <td>H</td>\n",
       "      <td>PRB954_PM1-1</td>\n",
       "      <td>8</td>\n",
       "      <td>12</td>\n",
       "      <td>PRB954</td>\n",
       "      <td>2-Aminoethanol</td>\n",
       "      <td>0.387359</td>\n",
       "      <td>1.807031</td>\n",
       "      <td>0.163044</td>\n",
       "      <td>0.362182</td>\n",
       "      <td>4.45912</td>\n",
       "      <td>255.078</td>\n",
       "      <td>0.197788</td>\n",
       "      <td>0.309303</td>\n",
       "      <td>4.43422</td>\n",
       "      <td>210.27</td>\n",
       "    </tr>\n",
       "    <tr>\n",
       "      <th>F10</th>\n",
       "      <td>F10</td>\n",
       "      <td>F</td>\n",
       "      <td>PRB954_PM1-1</td>\n",
       "      <td>6</td>\n",
       "      <td>10</td>\n",
       "      <td>PRB954</td>\n",
       "      <td>Glyoxylic Acid</td>\n",
       "      <td>0.062088</td>\n",
       "      <td>0.289641</td>\n",
       "      <td>0.153532</td>\n",
       "      <td>0.0232271</td>\n",
       "      <td>-5.73861</td>\n",
       "      <td>270.88</td>\n",
       "      <td>NaN</td>\n",
       "      <td>NaN</td>\n",
       "      <td>-5.70294</td>\n",
       "      <td>NaN</td>\n",
       "    </tr>\n",
       "    <tr>\n",
       "      <th>B11</th>\n",
       "      <td>B11</td>\n",
       "      <td>B</td>\n",
       "      <td>PRB954_PM1-1</td>\n",
       "      <td>2</td>\n",
       "      <td>11</td>\n",
       "      <td>PRB954</td>\n",
       "      <td>D-Mannitol</td>\n",
       "      <td>0.792709</td>\n",
       "      <td>3.697988</td>\n",
       "      <td>0.153035</td>\n",
       "      <td>0.871126</td>\n",
       "      <td>9.91157</td>\n",
       "      <td>271.761</td>\n",
       "      <td>0.189058</td>\n",
       "      <td>0.693589</td>\n",
       "      <td>9.86597</td>\n",
       "      <td>219.98</td>\n",
       "    </tr>\n",
       "    <tr>\n",
       "      <th>G6</th>\n",
       "      <td>G6</td>\n",
       "      <td>G</td>\n",
       "      <td>PRB954_PM1-1</td>\n",
       "      <td>7</td>\n",
       "      <td>6</td>\n",
       "      <td>PRB954</td>\n",
       "      <td>L-Alanyl-Glycine</td>\n",
       "      <td>0.200206</td>\n",
       "      <td>0.933962</td>\n",
       "      <td>0.152304</td>\n",
       "      <td>0.0472129</td>\n",
       "      <td>-0.784114</td>\n",
       "      <td>273.065</td>\n",
       "      <td>NaN</td>\n",
       "      <td>NaN</td>\n",
       "      <td>-0.775738</td>\n",
       "      <td>NaN</td>\n",
       "    </tr>\n",
       "    <tr>\n",
       "      <th>A11</th>\n",
       "      <td>A11</td>\n",
       "      <td>A</td>\n",
       "      <td>PRB954_PM1-1</td>\n",
       "      <td>1</td>\n",
       "      <td>11</td>\n",
       "      <td>PRB954</td>\n",
       "      <td>D-Mannose</td>\n",
       "      <td>0.655933</td>\n",
       "      <td>3.059927</td>\n",
       "      <td>0.125536</td>\n",
       "      <td>0.743933</td>\n",
       "      <td>8.08159</td>\n",
       "      <td>331.289</td>\n",
       "      <td>0.104702</td>\n",
       "      <td>1.51059</td>\n",
       "      <td>8.01986</td>\n",
       "      <td>397.211</td>\n",
       "    </tr>\n",
       "  </tbody>\n",
       "</table>\n",
       "</div>"
      ],
      "text/plain": [
       "     Well Letter      Plate_ID Row Column Isolate               Substrate  \\\n",
       "Well                                                                        \n",
       "A3     A3      A  PRB954_PM1-1   1      3  PRB954  N-Acetyl-D-Glucosamine   \n",
       "H5     H5      H  PRB954_PM1-1   8      5  PRB954               D-Psicose   \n",
       "C7     C7      C  PRB954_PM1-1   3      7  PRB954              D-Fructose   \n",
       "C9     C9      C  PRB954_PM1-1   3      9  PRB954         alpha-D-Glucose   \n",
       "G4     G4      G  PRB954_PM1-1   7      4  PRB954             L-Threonine   \n",
       "H12   H12      H  PRB954_PM1-1   8     12  PRB954          2-Aminoethanol   \n",
       "F10   F10      F  PRB954_PM1-1   6     10  PRB954          Glyoxylic Acid   \n",
       "B11   B11      B  PRB954_PM1-1   2     11  PRB954              D-Mannitol   \n",
       "G6     G6      G  PRB954_PM1-1   7      6  PRB954        L-Alanyl-Glycine   \n",
       "A11   A11      A  PRB954_PM1-1   1     11  PRB954               D-Mannose   \n",
       "\n",
       "        Max_OD  Fold_Change      GP_r       GP_K    GP_AUC    GP_td  \\\n",
       "Well                                                                  \n",
       "A3    0.758015     3.536141  0.285946   0.763807   7.16737  145.443   \n",
       "H5    0.243431     1.135607  0.284019   0.136797   1.56914   146.43   \n",
       "C7    0.825154     3.849344  0.235521   0.899295   10.1327  176.582   \n",
       "C9    0.880712     4.108523  0.218193   0.917325   10.8715  190.606   \n",
       "G4    0.440850     2.056564  0.172972   0.415119   5.35975  240.436   \n",
       "H12   0.387359     1.807031  0.163044   0.362182   4.45912  255.078   \n",
       "F10   0.062088     0.289641  0.153532  0.0232271  -5.73861   270.88   \n",
       "B11   0.792709     3.697988  0.153035   0.871126   9.91157  271.761   \n",
       "G6    0.200206     0.933962  0.152304  0.0472129 -0.784114  273.065   \n",
       "A11   0.655933     3.059927  0.125536   0.743933   8.08159  331.289   \n",
       "\n",
       "     classical_r classical_K classical_AUC classical_td  \n",
       "Well                                                     \n",
       "A3       62.2095   -0.462551       7.17666     0.668529  \n",
       "H5    -0.0331854   0.0396147       1.56319     -1253.23  \n",
       "C7       0.30617    0.644048       10.1089      135.836  \n",
       "C9      0.276134    0.702891       10.8267      150.611  \n",
       "G4      0.186328     0.41268       5.33326      223.202  \n",
       "H12     0.197788    0.309303       4.43422       210.27  \n",
       "F10          NaN         NaN      -5.70294          NaN  \n",
       "B11     0.189058    0.693589       9.86597       219.98  \n",
       "G6           NaN         NaN     -0.775738          NaN  \n",
       "A11     0.104702     1.51059       8.01986      397.211  "
      ]
     },
     "execution_count": 42,
     "metadata": {},
     "output_type": "execute_result"
    }
   ],
   "source": [
    "summary_df = summary.join(growth_summary).sort_values(['GP_td'],ascending=True)\n",
    "summary_df.head(10)"
   ]
  },
  {
   "cell_type": "markdown",
   "metadata": {},
   "source": [
    "# Analyze growth metrics across plate  (example)"
   ]
  },
  {
   "cell_type": "code",
   "execution_count": 46,
   "metadata": {
    "ExecuteTime": {
     "end_time": "2020-02-07T19:06:28.012009Z",
     "start_time": "2020-02-07T19:06:27.694568Z"
    }
   },
   "outputs": [
    {
     "data": {
      "image/png": "[encoded data removed]",
      "text/plain": [
       "<Figure size 360x504 with 1 Axes>"
      ]
     },
     "metadata": {},
     "output_type": "display_data"
    }
   ],
   "source": [
    "fig,ax = plt.subplots(figsize=[5,7]);\n",
    "\n",
    "# grab all growth curves with at least 1.5 fold change (relative to negative control)\n",
    "subset = list(summary_df[summary_df['Fold_Change']>1.5].Substrate.values)+list(['Negative Control']);\n",
    "\n",
    "labels = summary_df[summary_df.isin({'Substrate':subset}).any(1)].Substrate\n",
    "td = summary_df[summary_df.isin({'Substrate':subset}).any(1)].GP_td;\n",
    "\n",
    "ax.barh(y=range(len(labels)),width=td,height=0.8,color=(0,0,0,0.65));\n",
    "\n",
    "[ii.set(fontsize=20) for ii in ax.get_xticklabels()+ax.get_yticklabels()];\n",
    "\n",
    "ax.set_xlabel('Doubling Time (Estimated by GP)',fontsize=20);\n",
    "plt.setp(ax,yticks=range(len(labels)),yticklabels=labels);\n",
    "ax.yaxis.grid(False)"
   ]
  },
  {
   "cell_type": "code",
   "execution_count": 47,
   "metadata": {
    "ExecuteTime": {
     "end_time": "2020-02-07T19:06:28.990592Z",
     "start_time": "2020-02-07T19:06:28.974097Z"
    }
   },
   "outputs": [
    {
     "data": {
      "text/plain": [
       "smoothed      True\n",
       "floored       True\n",
       "controlled    True\n",
       "logged        True\n",
       "dtype: bool"
      ]
     },
     "execution_count": 47,
     "metadata": {},
     "output_type": "execute_result"
    }
   ],
   "source": [
    "plate.mods"
   ]
  },
  {
   "cell_type": "code",
   "execution_count": 48,
   "metadata": {
    "ExecuteTime": {
     "end_time": "2020-02-07T19:06:34.850537Z",
     "start_time": "2020-02-07T19:06:29.559258Z"
    }
   },
   "outputs": [
    {
     "name": "stdout",
     "output_type": "stream",
     "text": [
      "      0.000000   0.166667   0.333333   0.500000   0.666667   0.833333   \\\n",
      "Well                                                                     \n",
      "A1          0.0   0.000000   0.000000   0.000000   0.000000   0.000000   \n",
      "A2          0.0   0.003773   0.003447  -0.000281  -0.006560  -0.014509   \n",
      "A3          0.0  -0.020878  -0.021444  -0.004005   0.027237   0.067547   \n",
      "A4          0.0  -0.007586  -0.014140  -0.019488  -0.023587  -0.026507   \n",
      "A5          0.0  -0.001974  -0.002871  -0.002617  -0.001229   0.001217   \n",
      "\n",
      "      1.000000   1.166667   1.333333   1.500000   ...  15.000000  15.166667  \\\n",
      "Well                                              ...                         \n",
      "A1     0.000000   0.000000   0.000000   0.000000  ...   0.000000   0.000000   \n",
      "A2    -0.023318  -0.032293  -0.040877  -0.048639  ...   0.004403   0.005750   \n",
      "A3     0.112689   0.159411   0.205505   0.249636  ...   0.093489   0.069235   \n",
      "A4    -0.028386  -0.029398  -0.029720  -0.029517  ...   0.000215   0.001050   \n",
      "A5     0.004617   0.008860   0.013855   0.019535  ...   0.149911   0.149621   \n",
      "\n",
      "      15.333333  15.500000  15.666667  15.833333  16.000000  16.166667  \\\n",
      "Well                                                                     \n",
      "A1     0.000000   0.000000   0.000000   0.000000   0.000000   0.000000   \n",
      "A2     0.007117   0.008430   0.009613   0.010590   0.011285   0.011622   \n",
      "A3     0.045178   0.021369  -0.002125  -0.025220  -0.047821  -0.069816   \n",
      "A4     0.002075   0.003243   0.004505   0.005812   0.007114   0.008359   \n",
      "A5     0.149485   0.149457   0.149490   0.149539   0.149556   0.149495   \n",
      "\n",
      "      16.333333  16.500000  \n",
      "Well                        \n",
      "A1     0.000000   0.000000  \n",
      "A2     0.011526   0.010923  \n",
      "A3    -0.091079  -0.111475  \n",
      "A4     0.009498   0.010481  \n",
      "A5     0.149309   0.148952  \n",
      "\n",
      "[5 rows x 100 columns]\n"
     ]
    },
    {
     "data": {
      "image/png": "[encoded data removed]",
      "text/plain": [
       "<Figure size 864x576 with 96 Axes>"
      ]
     },
     "execution_count": 48,
     "metadata": {},
     "output_type": "execute_result"
    }
   ],
   "source": [
    "fig,ax = plate.plot();\n",
    "fig"
   ]
  },
  {
   "cell_type": "markdown",
   "metadata": {},
   "source": [
    "## Would this be different if you do not subtract negative control (no carbon) growth?"
   ]
  },
  {
   "cell_type": "code",
   "execution_count": 49,
   "metadata": {
    "ExecuteTime": {
     "end_time": "2020-02-07T19:06:34.899157Z",
     "start_time": "2020-02-07T19:06:34.867243Z"
    }
   },
   "outputs": [],
   "source": [
    "# define plate object and prepare it for analysis\n",
    "plate = growth.GrowthPlate(data=data,key=summary,control='A1');"
   ]
  },
  {
   "cell_type": "code",
   "execution_count": 50,
   "metadata": {
    "ExecuteTime": {
     "end_time": "2020-02-07T19:06:35.273851Z",
     "start_time": "2020-02-07T19:06:34.908605Z"
    }
   },
   "outputs": [
    {
     "data": {
      "text/plain": [
       "smoothed       True\n",
       "floored        True\n",
       "controlled    False\n",
       "logged         True\n",
       "dtype: bool"
      ]
     },
     "execution_count": 50,
     "metadata": {},
     "output_type": "execute_result"
    }
   ],
   "source": [
    "plate.convertTimeUnits()\n",
    "plate.smoothData()\n",
    "plate.logData()\n",
    "plate.subtractBaseline()\n",
    "\n",
    "plate.mods"
   ]
  },
  {
   "cell_type": "code",
   "execution_count": 51,
   "metadata": {
    "ExecuteTime": {
     "end_time": "2020-02-07T19:06:40.925238Z",
     "start_time": "2020-02-07T19:06:35.280840Z"
    }
   },
   "outputs": [
    {
     "data": {
      "image/png": "[encoded data removed]",
      "text/plain": [
       "<Figure size 864x576 with 96 Axes>"
      ]
     },
     "execution_count": 51,
     "metadata": {},
     "output_type": "execute_result"
    }
   ],
   "source": [
    "fig,ax = plate.plot(); fig"
   ]
  },
  {
   "cell_type": "code",
   "execution_count": 52,
   "metadata": {
    "ExecuteTime": {
     "end_time": "2020-02-07T19:06:41.039074Z",
     "start_time": "2020-02-07T19:06:40.935144Z"
    }
   },
   "outputs": [
    {
     "data": {
      "text/html": [
       "<div>\n",
       "<style scoped>\n",
       "    .dataframe tbody tr th:only-of-type {\n",
       "        vertical-align: middle;\n",
       "    }\n",
       "\n",
       "    .dataframe tbody tr th {\n",
       "        vertical-align: top;\n",
       "    }\n",
       "\n",
       "    .dataframe thead th {\n",
       "        text-align: right;\n",
       "    }\n",
       "</style>\n",
       "<table border=\"1\" class=\"dataframe\">\n",
       "  <thead>\n",
       "    <tr style=\"text-align: right;\">\n",
       "      <th></th>\n",
       "      <th>GP_r</th>\n",
       "      <th>GP_K</th>\n",
       "      <th>GP_AUC</th>\n",
       "      <th>GP_td</th>\n",
       "      <th>classical_r</th>\n",
       "      <th>classical_K</th>\n",
       "      <th>classical_AUC</th>\n",
       "      <th>classical_td</th>\n",
       "    </tr>\n",
       "    <tr>\n",
       "      <th>Well</th>\n",
       "      <th></th>\n",
       "      <th></th>\n",
       "      <th></th>\n",
       "      <th></th>\n",
       "      <th></th>\n",
       "      <th></th>\n",
       "      <th></th>\n",
       "      <th></th>\n",
       "    </tr>\n",
       "  </thead>\n",
       "  <tbody>\n",
       "    <tr>\n",
       "      <th>A1</th>\n",
       "      <td>NaN</td>\n",
       "      <td>NaN</td>\n",
       "      <td>NaN</td>\n",
       "      <td>NaN</td>\n",
       "      <td>NaN</td>\n",
       "      <td>NaN</td>\n",
       "      <td>NaN</td>\n",
       "      <td>NaN</td>\n",
       "    </tr>\n",
       "    <tr>\n",
       "      <th>A2</th>\n",
       "      <td>NaN</td>\n",
       "      <td>NaN</td>\n",
       "      <td>NaN</td>\n",
       "      <td>NaN</td>\n",
       "      <td>NaN</td>\n",
       "      <td>NaN</td>\n",
       "      <td>NaN</td>\n",
       "      <td>NaN</td>\n",
       "    </tr>\n",
       "    <tr>\n",
       "      <th>A3</th>\n",
       "      <td>NaN</td>\n",
       "      <td>NaN</td>\n",
       "      <td>NaN</td>\n",
       "      <td>NaN</td>\n",
       "      <td>NaN</td>\n",
       "      <td>NaN</td>\n",
       "      <td>NaN</td>\n",
       "      <td>NaN</td>\n",
       "    </tr>\n",
       "    <tr>\n",
       "      <th>A4</th>\n",
       "      <td>NaN</td>\n",
       "      <td>NaN</td>\n",
       "      <td>NaN</td>\n",
       "      <td>NaN</td>\n",
       "      <td>NaN</td>\n",
       "      <td>NaN</td>\n",
       "      <td>NaN</td>\n",
       "      <td>NaN</td>\n",
       "    </tr>\n",
       "    <tr>\n",
       "      <th>A5</th>\n",
       "      <td>NaN</td>\n",
       "      <td>NaN</td>\n",
       "      <td>NaN</td>\n",
       "      <td>NaN</td>\n",
       "      <td>NaN</td>\n",
       "      <td>NaN</td>\n",
       "      <td>NaN</td>\n",
       "      <td>NaN</td>\n",
       "    </tr>\n",
       "  </tbody>\n",
       "</table>\n",
       "</div>"
      ],
      "text/plain": [
       "     GP_r GP_K GP_AUC GP_td classical_r classical_K classical_AUC classical_td\n",
       "Well                                                                          \n",
       "A1    NaN  NaN    NaN   NaN         NaN         NaN           NaN          NaN\n",
       "A2    NaN  NaN    NaN   NaN         NaN         NaN           NaN          NaN\n",
       "A3    NaN  NaN    NaN   NaN         NaN         NaN           NaN          NaN\n",
       "A4    NaN  NaN    NaN   NaN         NaN         NaN           NaN          NaN\n",
       "A5    NaN  NaN    NaN   NaN         NaN         NaN           NaN          NaN"
      ]
     },
     "execution_count": 52,
     "metadata": {},
     "output_type": "execute_result"
    }
   ],
   "source": [
    "# initialize pd.DataFrame to store summary metrics/statistics\n",
    "growth_summary = pd.DataFrame(index=summary.index,\n",
    "                              columns=['GP_r','GP_K','GP_AUC','GP_td',\n",
    "                                       'classical_r','classical_K','classical_AUC','classical_td']);\n",
    "growth_summary.head()"
   ]
  },
  {
   "cell_type": "code",
   "execution_count": null,
   "metadata": {
    "ExecuteTime": {
     "start_time": "2020-02-07T19:06:47.211Z"
    }
   },
   "outputs": [
    {
     "name": "stdout",
     "output_type": "stream",
     "text": [
      " 01 . . . . . . . . . . . . \n",
      "02 . . . . . . . . . . . . \n",
      "03 . . . . . . . . . . . . \n",
      "04 . . . . . . . . . . . . \n",
      "05 . . . . . . . . . . . . \n",
      "06 . . . . . . . . . . . . \n",
      "07 . . . . . . . . . . . . \n",
      "08 . . . . . . . . ."
     ]
    }
   ],
   "source": [
    "counter = 0;\n",
    "row_count = 1; print '%02d' % row_count,\n",
    "for well in growth_summary.index:\n",
    "\n",
    "    if counter<12:\n",
    "        print '.',\n",
    "        counter += 1;\n",
    "    else:\n",
    "        row_count += 1;\n",
    "        print '\\n%02d .' % row_count,\n",
    "        counter = 1;\n",
    "\n",
    "    substrate = plate.key.loc[well,'Substrate']; #print substrate\n",
    "    od = plate.extractGrowthData({'Substrate':[substrate]}); # control is not subtracted\n",
    "    \n",
    "    cls = growth.GrowthMetrics(od)\n",
    "    cls.fitClassical(classical.gompertz)\n",
    "    cls.inferClassicalDynamics()\n",
    "\n",
    "    to_header = ['classical_r','classical_K','classical_AUC','classical_td'];\n",
    "    to_index = cls.key.index[0]\n",
    "    growth_summary.loc[to_index,to_header] = cls.key.loc[to_index,to_header].values\n",
    "\n",
    "    gpr = growth.GrowthMetrics(od)\n",
    "    gpr.fitGP()\n",
    "    gpr.inferGPDynamics()\n",
    "\n",
    "    to_header = ['GP_r','GP_K','GP_AUC','GP_td'];\n",
    "    to_index = gpr.key.index[0]\n",
    "    growth_summary.loc[to_index,to_header] = gpr.key.loc[to_index,to_header].values"
   ]
  },
  {
   "cell_type": "code",
   "execution_count": null,
   "metadata": {
    "ExecuteTime": {
     "start_time": "2020-02-07T19:06:50.345Z"
    }
   },
   "outputs": [],
   "source": [
    "summary_df = summary.join(growth_summary).sort_values(['GP_td'],ascending=True)\n",
    "summary_df.head(10)"
   ]
  },
  {
   "cell_type": "code",
   "execution_count": null,
   "metadata": {
    "ExecuteTime": {
     "start_time": "2020-02-07T19:06:56.812Z"
    }
   },
   "outputs": [],
   "source": [
    "fig,ax = plt.subplots(figsize=[5,7]);\n",
    "\n",
    "# grab all growth curves with at least 1.5 fold change (relative to negative control)\n",
    "subset = list(summary_df[summary_df['Fold_Change']>1.5].Substrate.values)+list(['Negative Control']);\n",
    "\n",
    "labels = summary_df[summary_df.isin({'Substrate':subset}).any(1)].Substrate\n",
    "td = summary_df[summary_df.isin({'Substrate':subset}).any(1)].GP_td;\n",
    "\n",
    "ax.barh(y=range(len(labels)),width=td,height=0.8,color=(0,0,0,0.65));\n",
    "\n",
    "[ii.set(fontsize=20) for ii in ax.get_xticklabels()+ax.get_yticklabels()];\n",
    "\n",
    "ax.set_xlabel('Doubling Time (Estimated by GP)',fontsize=20);\n",
    "plt.setp(ax,yticks=range(len(labels)),yticklabels=labels);\n",
    "ax.yaxis.grid(False)"
   ]
  },
  {
   "cell_type": "code",
   "execution_count": null,
   "metadata": {
    "collapsed": true
   },
   "outputs": [],
   "source": []
  }
 ],
 "metadata": {
  "hide_input": false,
  "kernelspec": {
   "display_name": "Python 2",
   "language": "python",
   "name": "python2"
  },
  "language_info": {
   "codemirror_mode": {
    "name": "ipython",
    "version": 2
   },
   "file_extension": ".py",
   "mimetype": "text/x-python",
   "name": "python",
   "nbconvert_exporter": "python",
   "pygments_lexer": "ipython2",
   "version": "2.7.17"
  },
  "toc": {
   "base_numbering": 1,
   "nav_menu": {},
   "number_sections": true,
   "sideBar": true,
   "skip_h1_title": false,
   "title_cell": "Table of Contents",
   "title_sidebar": "Contents",
   "toc_cell": false,
   "toc_position": {},
   "toc_section_display": true,
   "toc_window_display": false
  }
 },
 "nbformat": 4,
 "nbformat_minor": 2
}
