{
 "cells": [
  {
   "cell_type": "code",
   "execution_count": null,
   "metadata": {
    "ExecuteTime": {
     "end_time": "2019-05-06T14:52:29.144832Z",
     "start_time": "2019-05-06T14:52:27.517635Z"
    }
   },
   "outputs": [],
   "source": [
    "# import off-the-shelf libraries\n",
    "import os\n",
    "import imp\n",
    "import sys\n",
    "import GPy, scipy\n",
    "import pandas as pd\n",
    "import numpy as np\n",
    "import matplotlib as mpl\n",
    "import matplotlib.pyplot as plt\n",
    "import seaborn as sns\n",
    "import time as timemodule\n",
    "import copy\n",
    "\n",
    "print '%s\\t\\t %s' % ('pandas',pd.__version__)\n",
    "print '%s\\t\\t %s' % ('numpy', np.__version__)\n",
    "print '%s\\t\\t %s' % ('scipy', scipy.__version__)\n",
    "print '%s\\t\\t %s' % ('GPy', GPy.__version__)\n",
    "print '%s\\t\\t %s' % ('seaborn', sns.__version__)\n",
    "print '%s\\t %s' % ('matplotlib', mpl.__version__)\n",
    "\n",
    "# set global parameters\n",
    "%matplotlib inline\n",
    "sns.set_style('white')\n",
    "\n",
    "# import in-house library\n",
    "sys.path.append(\"..\")\n",
    "from libs import classical,growth,plates"
   ]
  },
  {
   "cell_type": "markdown",
   "metadata": {},
   "source": [
    "***WARNING*** ```BiopythonExperimentalWarning```\n",
    "<br></br></br> \n",
    "```Bio.phenotype``` is an experimental submodule which may undergo significant changes prior to its future official release."
   ]
  },
  {
   "cell_type": "markdown",
   "metadata": {},
   "source": [
    "# Read Data"
   ]
  },
  {
   "cell_type": "code",
   "execution_count": null,
   "metadata": {
    "ExecuteTime": {
     "end_time": "2019-05-06T14:52:29.241249Z",
     "start_time": "2019-05-06T14:52:29.147322Z"
    }
   },
   "outputs": [],
   "source": [
    "data = pd.read_csv('/Users/firasmidani/rab_fm/proj/biolog/data/Magellan/PRB954_PM1-1.tsv',\n",
    "                   sep='\\t',header=0,index_col=0);\n",
    "data.head()"
   ]
  },
  {
   "cell_type": "code",
   "execution_count": null,
   "metadata": {
    "ExecuteTime": {
     "end_time": "2019-05-06T14:52:29.329777Z",
     "start_time": "2019-05-06T14:52:29.247244Z"
    }
   },
   "outputs": [],
   "source": [
    "# format \n",
    "print type(data.columns[0])\n",
    "\n",
    "# convert headers from strings to integers\n",
    "data.columns = plates.listTimePoints(interval=600,numTimePoints=data.shape[1])\n",
    "\n",
    "data.index.name = 'Well'\n",
    "data.T.index.name = 'Time'\n",
    "\n",
    "print type(data.columns[0])\n",
    "\n",
    "data.head()"
   ]
  },
  {
   "cell_type": "markdown",
   "metadata": {},
   "source": [
    "# Read Meta-data"
   ]
  },
  {
   "cell_type": "code",
   "execution_count": 4,
   "metadata": {
    "ExecuteTime": {
     "end_time": "2019-05-06T14:52:29.352428Z",
     "start_time": "2019-05-06T14:52:29.344560Z"
    }
   },
   "outputs": [],
   "source": [
    "# libpath = '/Users/firasmidani/rab_fm/git/phenotypic-characterization/config'\n",
    "\n",
    "# #libpath = os.path.dirname(os.path.realpath(__file__)) # get script's directory\n",
    "# foo = imp.load_source('biolog_pm_layout','%s/biolog_pm_layout.py' % libpath);\n",
    "# from biolog_pm_layout import *\n",
    "\n",
    "# Carbon1"
   ]
  },
  {
   "cell_type": "code",
   "execution_count": 6,
   "metadata": {
    "ExecuteTime": {
     "end_time": "2019-05-06T14:52:34.235670Z",
     "start_time": "2019-05-06T14:52:34.188581Z"
    }
   },
   "outputs": [
    {
     "data": {
      "text/html": [
       "<div>\n",
       "<style scoped>\n",
       "    .dataframe tbody tr th:only-of-type {\n",
       "        vertical-align: middle;\n",
       "    }\n",
       "\n",
       "    .dataframe tbody tr th {\n",
       "        vertical-align: top;\n",
       "    }\n",
       "\n",
       "    .dataframe thead th {\n",
       "        text-align: right;\n",
       "    }\n",
       "</style>\n",
       "<table border=\"1\" class=\"dataframe\">\n",
       "  <thead>\n",
       "    <tr style=\"text-align: right;\">\n",
       "      <th></th>\n",
       "      <th>Isolate</th>\n",
       "      <th>Substrate</th>\n",
       "      <th>Plate</th>\n",
       "    </tr>\n",
       "    <tr>\n",
       "      <th>Well</th>\n",
       "      <th></th>\n",
       "      <th></th>\n",
       "      <th></th>\n",
       "    </tr>\n",
       "  </thead>\n",
       "  <tbody>\n",
       "    <tr>\n",
       "      <th>A1</th>\n",
       "      <td>PRB954</td>\n",
       "      <td>Negative Control</td>\n",
       "      <td>PRB954_PM1-1</td>\n",
       "    </tr>\n",
       "    <tr>\n",
       "      <th>A2</th>\n",
       "      <td>PRB954</td>\n",
       "      <td>L-Arabanose</td>\n",
       "      <td>PRB954_PM1-1</td>\n",
       "    </tr>\n",
       "    <tr>\n",
       "      <th>A3</th>\n",
       "      <td>PRB954</td>\n",
       "      <td>N-Acetyl-D-Glucosamine</td>\n",
       "      <td>PRB954_PM1-1</td>\n",
       "    </tr>\n",
       "    <tr>\n",
       "      <th>A4</th>\n",
       "      <td>PRB954</td>\n",
       "      <td>D-Saccharic Acid</td>\n",
       "      <td>PRB954_PM1-1</td>\n",
       "    </tr>\n",
       "    <tr>\n",
       "      <th>A5</th>\n",
       "      <td>PRB954</td>\n",
       "      <td>Succinic Acid</td>\n",
       "      <td>PRB954_PM1-1</td>\n",
       "    </tr>\n",
       "  </tbody>\n",
       "</table>\n",
       "</div>"
      ],
      "text/plain": [
       "     Isolate               Substrate         Plate\n",
       "Well                                              \n",
       "A1    PRB954        Negative Control  PRB954_PM1-1\n",
       "A2    PRB954             L-Arabanose  PRB954_PM1-1\n",
       "A3    PRB954  N-Acetyl-D-Glucosamine  PRB954_PM1-1\n",
       "A4    PRB954        D-Saccharic Acid  PRB954_PM1-1\n",
       "A5    PRB954           Succinic Acid  PRB954_PM1-1"
      ]
     },
     "execution_count": 6,
     "metadata": {},
     "output_type": "execute_result"
    }
   ],
   "source": [
    "key = plates.populatePlateKey('PRB954_PM1-1');\n",
    "key.head()"
   ]
  },
  {
   "cell_type": "code",
   "execution_count": null,
   "metadata": {
    "ExecuteTime": {
     "end_time": "2019-05-03T18:40:48.406251Z",
     "start_time": "2019-05-03T18:40:48.370915Z"
    }
   },
   "outputs": [],
   "source": [
    "# remove time points with NaN from data\n",
    "data = data.iloc[:,np.where(~data.isna().all(0))[0]]\n",
    "data.head()"
   ]
  },
  {
   "cell_type": "code",
   "execution_count": null,
   "metadata": {
    "ExecuteTime": {
     "end_time": "2019-05-03T18:40:48.575679Z",
     "start_time": "2019-05-03T18:40:48.409076Z"
    }
   },
   "outputs": [],
   "source": [
    "# initialize pd.DataFrame for summarizing data sets\n",
    "\n",
    "order_columns = ['Letter','Plate','Row','Column']\n",
    "order_columns += ['Isolate','Substrate','Max OD','Growth Fold']\n",
    "order_columns\n",
    "\n",
    "summary = summarizeGrowthData(data)\n",
    "summary = summary.join(key)\n",
    "summary = summary.loc[:,order_columns]\n",
    "\n",
    "summary.head()"
   ]
  },
  {
   "cell_type": "code",
   "execution_count": null,
   "metadata": {
    "ExecuteTime": {
     "end_time": "2019-05-03T18:40:48.623090Z",
     "start_time": "2019-05-03T18:40:48.578837Z"
    }
   },
   "outputs": [],
   "source": [
    "# prepare data for growth dynamics inference\n",
    "data = data.T\n",
    "data = data.loc[:,key.index]\n",
    "data = data.reset_index(drop=False);\n",
    "data.head()"
   ]
  },
  {
   "cell_type": "markdown",
   "metadata": {},
   "source": [
    "# Create GrowthPlate object and describe"
   ]
  },
  {
   "cell_type": "code",
   "execution_count": null,
   "metadata": {
    "ExecuteTime": {
     "end_time": "2019-05-03T18:40:48.636555Z",
     "start_time": "2019-05-03T18:40:48.626073Z"
    },
    "collapsed": true
   },
   "outputs": [],
   "source": [
    "# define plate object and prepare it for analysis\n",
    "plate = GrowthPlate(data=data,key=summary,control='A1');"
   ]
  },
  {
   "cell_type": "code",
   "execution_count": null,
   "metadata": {
    "ExecuteTime": {
     "end_time": "2019-05-03T18:40:48.652097Z",
     "start_time": "2019-05-03T18:40:48.639433Z"
    }
   },
   "outputs": [],
   "source": [
    "plate.time.head()"
   ]
  },
  {
   "cell_type": "code",
   "execution_count": null,
   "metadata": {
    "ExecuteTime": {
     "end_time": "2019-05-03T18:40:48.691617Z",
     "start_time": "2019-05-03T18:40:48.655139Z"
    }
   },
   "outputs": [],
   "source": [
    "plate.data.head()"
   ]
  },
  {
   "cell_type": "code",
   "execution_count": null,
   "metadata": {
    "ExecuteTime": {
     "end_time": "2019-05-03T18:40:55.597888Z",
     "start_time": "2019-05-03T18:40:48.694223Z"
    }
   },
   "outputs": [],
   "source": [
    "fig,ax = plate.plot();\n",
    "fig"
   ]
  },
  {
   "cell_type": "markdown",
   "metadata": {},
   "source": [
    "# Create GrowthData object and describe"
   ]
  },
  {
   "cell_type": "code",
   "execution_count": null,
   "metadata": {
    "ExecuteTime": {
     "end_time": "2019-05-03T18:40:55.607057Z",
     "start_time": "2019-05-03T18:40:55.600063Z"
    }
   },
   "outputs": [],
   "source": [
    "plate.mods"
   ]
  },
  {
   "cell_type": "code",
   "execution_count": null,
   "metadata": {
    "ExecuteTime": {
     "end_time": "2019-05-03T18:40:57.630235Z",
     "start_time": "2019-05-03T18:40:55.609131Z"
    }
   },
   "outputs": [],
   "source": [
    "fig,ax = plate.extractGrowthData({'Substrate':['alpha-D-Glucose']}).plot()\n",
    "\n",
    "ax.set_ylim([-0.03,1.63])\n",
    "ax.set_xlim([-1500,62000])\n",
    "\n",
    "[ii.set(rotation=90) for ii in ax.get_xticklabels()];\n",
    "\n",
    "ax.set_xlabel('Time (seconds)');"
   ]
  },
  {
   "cell_type": "code",
   "execution_count": null,
   "metadata": {
    "ExecuteTime": {
     "end_time": "2019-05-03T18:40:57.643540Z",
     "start_time": "2019-05-03T18:40:57.632537Z"
    }
   },
   "outputs": [],
   "source": [
    "plate.mods"
   ]
  },
  {
   "cell_type": "markdown",
   "metadata": {},
   "source": [
    "## Conver Time to minutes"
   ]
  },
  {
   "cell_type": "code",
   "execution_count": null,
   "metadata": {
    "ExecuteTime": {
     "end_time": "2019-05-03T18:40:57.877454Z",
     "start_time": "2019-05-03T18:40:57.647840Z"
    }
   },
   "outputs": [],
   "source": [
    "plate.convertTimeUnits()\n",
    "\n",
    "fig,ax = plate.extractGrowthData({'Substrate':['alpha-D-Glucose']}).plot()\n",
    "\n",
    "ax.set_ylim([-0.03,1.63])\n",
    "ax.set_xlim([-0.4,20.4])\n",
    "\n",
    "ax.set_xlabel('Time (hours)');"
   ]
  },
  {
   "cell_type": "code",
   "execution_count": null,
   "metadata": {
    "ExecuteTime": {
     "end_time": "2019-05-03T18:40:57.888640Z",
     "start_time": "2019-05-03T18:40:57.880667Z"
    }
   },
   "outputs": [],
   "source": [
    "plate.mods"
   ]
  },
  {
   "cell_type": "markdown",
   "metadata": {},
   "source": [
    "## Smooth OD data"
   ]
  },
  {
   "cell_type": "code",
   "execution_count": null,
   "metadata": {
    "ExecuteTime": {
     "end_time": "2019-05-03T18:40:58.269454Z",
     "start_time": "2019-05-03T18:40:57.891626Z"
    }
   },
   "outputs": [],
   "source": [
    "plate.smoothData();\n",
    "\n",
    "fig,ax = plate.extractGrowthData({'Substrate':['alpha-D-Glucose']}).plot();\n",
    "\n",
    "ax.set_ylim([-0.03,1.63])\n",
    "ax.set_xlim([-0.4,20.4])\n",
    "\n",
    "ax.set_xlabel('Time (hours)');"
   ]
  },
  {
   "cell_type": "code",
   "execution_count": null,
   "metadata": {
    "ExecuteTime": {
     "end_time": "2019-05-03T18:40:58.283518Z",
     "start_time": "2019-05-03T18:40:58.272710Z"
    }
   },
   "outputs": [],
   "source": [
    "plate.mods"
   ]
  },
  {
   "cell_type": "markdown",
   "metadata": {},
   "source": [
    "## Transform with natural logarithm"
   ]
  },
  {
   "cell_type": "code",
   "execution_count": null,
   "metadata": {
    "ExecuteTime": {
     "end_time": "2019-05-03T18:40:58.514329Z",
     "start_time": "2019-05-03T18:40:58.287196Z"
    }
   },
   "outputs": [],
   "source": [
    "plate.logData();\n",
    "\n",
    "fig,ax = plate.extractGrowthData({'Substrate':['alpha-D-Glucose']}).plot();\n",
    "\n",
    "ax.set_ylim([-1.43,0.23])\n",
    "ax.set_xlim([-0.4,20.4])\n",
    "\n",
    "ax.set_xlabel('Time (hours)');"
   ]
  },
  {
   "cell_type": "code",
   "execution_count": null,
   "metadata": {
    "ExecuteTime": {
     "end_time": "2019-05-03T18:40:58.529218Z",
     "start_time": "2019-05-03T18:40:58.518972Z"
    }
   },
   "outputs": [],
   "source": [
    "plate.mods"
   ]
  },
  {
   "cell_type": "markdown",
   "metadata": {},
   "source": [
    "## Scale OD to the first time point log(OD)=0 <--> OD=1"
   ]
  },
  {
   "cell_type": "code",
   "execution_count": null,
   "metadata": {
    "ExecuteTime": {
     "end_time": "2019-05-03T18:40:58.921162Z",
     "start_time": "2019-05-03T18:40:58.532492Z"
    }
   },
   "outputs": [],
   "source": [
    "plate.subtractBaseline();\n",
    "\n",
    "fig,ax = plate.extractGrowthData({'Substrate':['alpha-D-Glucose']}).plot();\n",
    "\n",
    "ax.set_ylim([-0.03,1.63])\n",
    "ax.set_xlim([-0.4,20.4])"
   ]
  },
  {
   "cell_type": "code",
   "execution_count": null,
   "metadata": {
    "ExecuteTime": {
     "end_time": "2019-05-03T18:40:58.936995Z",
     "start_time": "2019-05-03T18:40:58.925009Z"
    }
   },
   "outputs": [],
   "source": [
    "plate.mods"
   ]
  },
  {
   "cell_type": "markdown",
   "metadata": {},
   "source": [
    "## Subtract negative control OD at each time point"
   ]
  },
  {
   "cell_type": "code",
   "execution_count": null,
   "metadata": {
    "ExecuteTime": {
     "end_time": "2019-05-03T18:40:59.220710Z",
     "start_time": "2019-05-03T18:40:58.940975Z"
    }
   },
   "outputs": [],
   "source": [
    "plate.subtractControl();\n",
    "\n",
    "fig,ax = plate.extractGrowthData({'Substrate':['alpha-D-Glucose']}).plot();\n",
    "\n",
    "ax.set_ylim([-0.03,1.63])\n",
    "ax.set_xlim([-0.4,20.4])"
   ]
  },
  {
   "cell_type": "code",
   "execution_count": null,
   "metadata": {
    "ExecuteTime": {
     "end_time": "2019-05-03T18:40:59.231191Z",
     "start_time": "2019-05-03T18:40:59.222712Z"
    }
   },
   "outputs": [],
   "source": [
    "plate.mods"
   ]
  },
  {
   "cell_type": "code",
   "execution_count": null,
   "metadata": {
    "ExecuteTime": {
     "end_time": "2019-05-03T18:40:59.247313Z",
     "start_time": "2019-05-03T18:40:59.233797Z"
    },
    "collapsed": true
   },
   "outputs": [],
   "source": [
    "foo0 = imp.load_source('growth_models',lib_path_0);\n",
    "foo1 = imp.load_source('plate_reader_library',lib_path_1);\n",
    "foo2 = imp.load_source('growth_fitting_library',lib_path_2)\n",
    "\n",
    "from growth_models import *\n",
    "from plate_reader_library import *\n",
    "from growth_fitting_library import *"
   ]
  },
  {
   "cell_type": "markdown",
   "metadata": {},
   "source": [
    "## Fit growth curves with classical approach of Gompertz"
   ]
  },
  {
   "cell_type": "code",
   "execution_count": null,
   "metadata": {
    "ExecuteTime": {
     "end_time": "2019-05-03T18:40:59.831231Z",
     "start_time": "2019-05-03T18:40:59.249607Z"
    }
   },
   "outputs": [],
   "source": [
    "glucose = plate.extractGrowthData({'Substrate':['alpha-D-Glucose']})\n",
    "\n",
    "classical = GrowthMetrics(glucose);\n",
    "classical.Classical(logistic)\n",
    "classical.inferClassicalDynamics()\n",
    "classical.predictClassical()\n",
    "\n",
    "fig,ax = classical.plot();\n",
    "\n",
    "ax.set_ylim([-0.03,1.32])\n",
    "ax.set_xlim([-0.4,20.4])\n",
    "\n",
    "print 'Doubling Rate is %0.2f minutes' % classical.key['classical_td']\n",
    "\n",
    "classical.key"
   ]
  },
  {
   "cell_type": "markdown",
   "metadata": {},
   "source": [
    "## Fit growth curve with non-parameteric GP Regression approach"
   ]
  },
  {
   "cell_type": "code",
   "execution_count": null,
   "metadata": {
    "ExecuteTime": {
     "end_time": "2019-05-03T18:41:00.647006Z",
     "start_time": "2019-05-03T18:40:59.833246Z"
    }
   },
   "outputs": [],
   "source": [
    "glucose = plate.extractGrowthData({'Substrate':['alpha-D-Glucose']})\n",
    "\n",
    "gpr = GrowthMetrics(glucose);\n",
    "gpr.GP()\n",
    "gpr.inferGPDynamics()\n",
    "gpr.predictGP()\n",
    "\n",
    "fig,ax = gpr.plot();\n",
    "\n",
    "ax.set_ylim([-0.03,1.32])\n",
    "ax.set_xlim([-0.4,20.4])\n",
    "\n",
    "print 'Doubling Rate is %0.2f minutes' % gpr.key['GP_td']\n",
    "\n",
    "gpr.key"
   ]
  },
  {
   "cell_type": "markdown",
   "metadata": {},
   "source": [
    "# Summarize dynamics in all wells of the plate"
   ]
  },
  {
   "cell_type": "code",
   "execution_count": null,
   "metadata": {
    "ExecuteTime": {
     "end_time": "2019-05-03T18:41:00.674659Z",
     "start_time": "2019-05-03T18:41:00.649367Z"
    }
   },
   "outputs": [],
   "source": [
    "# initialize pd.DataFrame to store summary metrics/statistics\n",
    "growth_summary = pd.DataFrame(index=summary.index,\n",
    "                              columns=['GP_r','GP_K','GP_AUC','GP_td',\n",
    "                                       'classical_r','classical_K','classical_AUC','classical_td']);\n",
    "growth_summary.head()"
   ]
  },
  {
   "cell_type": "code",
   "execution_count": null,
   "metadata": {
    "ExecuteTime": {
     "end_time": "2019-05-03T18:42:10.277283Z",
     "start_time": "2019-05-03T18:41:00.978823Z"
    }
   },
   "outputs": [],
   "source": [
    "counter = 0;\n",
    "row_count = 1; print '%02d' % row_count,\n",
    "for well in growth_summary.index:\n",
    "\n",
    "    if counter<12:\n",
    "        print '.',\n",
    "        counter += 1;\n",
    "    else:\n",
    "        row_count += 1;\n",
    "        print '\\n%02d .' % row_count,\n",
    "        counter = 1;\n",
    "\n",
    "    substrate = plate.key.loc[well,'Substrate']; #print substrate\n",
    "    growth = plate.extractGrowthData({'Substrate':[substrate]}); # control is not subtracted\n",
    "    \n",
    "    \n",
    "    classical = GrowthMetrics(growth)\n",
    "    classical.Classical(gompertz)\n",
    "    classical.inferClassicalDynamics()\n",
    "\n",
    "    to_header = ['classical_r','classical_K','classical_AUC','classical_td'];\n",
    "    to_index = classical.key.index[0]\n",
    "    growth_summary.loc[to_index,to_header] = classical.key.loc[to_index,to_header].values\n",
    "\n",
    "    gpr = GrowthMetrics(growth)\n",
    "    gpr.GP()\n",
    "    gpr.inferGPDynamics()\n",
    "\n",
    "    to_header = ['GP_r','GP_K','GP_AUC','GP_td'];\n",
    "    to_index = gpr.key.index[0]\n",
    "    growth_summary.loc[to_index,to_header] = gpr.key.loc[to_index,to_header].values\n"
   ]
  },
  {
   "cell_type": "code",
   "execution_count": null,
   "metadata": {
    "ExecuteTime": {
     "end_time": "2019-05-03T18:42:10.344916Z",
     "start_time": "2019-05-03T18:42:10.280146Z"
    }
   },
   "outputs": [],
   "source": [
    "summary_df = summary.join(growth_summary).sort_values(['GP_td'],ascending=True)\n",
    "summary_df.head(10)"
   ]
  },
  {
   "cell_type": "markdown",
   "metadata": {},
   "source": [
    "# Analyze growth metrics across plate  (example)"
   ]
  },
  {
   "cell_type": "code",
   "execution_count": null,
   "metadata": {
    "ExecuteTime": {
     "end_time": "2019-05-03T18:42:10.715082Z",
     "start_time": "2019-05-03T18:42:10.348932Z"
    }
   },
   "outputs": [],
   "source": [
    "fig,ax = plt.subplots(figsize=[5,7]);\n",
    "\n",
    "# grab all growth curves with at least 1.5 fold change (relative to negative control)\n",
    "subset = list(summary_df[summary_df['Growth Fold']>1.5].Substrate.values)+list(['Negative Control']);\n",
    "\n",
    "labels = summary_df[summary_df.isin({'Substrate':subset}).any(1)].Substrate\n",
    "td = summary_df[summary_df.isin({'Substrate':subset}).any(1)].GP_td;\n",
    "\n",
    "ax.barh(y=range(len(labels)),width=td,height=0.8,color=(0,0,0,0.65));\n",
    "\n",
    "[ii.set(fontsize=20) for ii in ax.get_xticklabels()+ax.get_yticklabels()];\n",
    "\n",
    "ax.set_xlabel('Doubling Time (Estimated by GP)',fontsize=20);\n",
    "plt.setp(ax,yticks=range(len(labels)),yticklabels=labels);\n",
    "ax.yaxis.grid(False)"
   ]
  },
  {
   "cell_type": "code",
   "execution_count": null,
   "metadata": {
    "ExecuteTime": {
     "end_time": "2019-05-03T18:42:10.727327Z",
     "start_time": "2019-05-03T18:42:10.719281Z"
    }
   },
   "outputs": [],
   "source": [
    "plate.mods"
   ]
  },
  {
   "cell_type": "code",
   "execution_count": null,
   "metadata": {
    "ExecuteTime": {
     "end_time": "2019-05-03T18:42:23.476664Z",
     "start_time": "2019-05-03T18:42:18.635685Z"
    }
   },
   "outputs": [],
   "source": [
    "fig,ax = plate.plot();\n",
    "fig"
   ]
  },
  {
   "cell_type": "markdown",
   "metadata": {},
   "source": [
    "## Would this be different if you do not subtract negative control (no carbon) growth?"
   ]
  },
  {
   "cell_type": "code",
   "execution_count": null,
   "metadata": {
    "ExecuteTime": {
     "end_time": "2019-05-03T18:42:49.115490Z",
     "start_time": "2019-05-03T18:42:49.106778Z"
    },
    "collapsed": true
   },
   "outputs": [],
   "source": [
    "# define plate object and prepare it for analysis\n",
    "plate = GrowthPlate(data=data,key=summary,control='A1');"
   ]
  },
  {
   "cell_type": "code",
   "execution_count": null,
   "metadata": {
    "ExecuteTime": {
     "end_time": "2019-05-03T18:42:49.528464Z",
     "start_time": "2019-05-03T18:42:49.373372Z"
    }
   },
   "outputs": [],
   "source": [
    "plate.convertTimeUnits()\n",
    "plate.smoothData()\n",
    "plate.logData()\n",
    "plate.subtractBaseline()\n",
    "\n",
    "plate.mods"
   ]
  },
  {
   "cell_type": "code",
   "execution_count": null,
   "metadata": {
    "ExecuteTime": {
     "end_time": "2019-05-03T18:43:21.618438Z",
     "start_time": "2019-05-03T18:43:12.458994Z"
    }
   },
   "outputs": [],
   "source": [
    "fig,ax = plate.plot(); fig"
   ]
  },
  {
   "cell_type": "code",
   "execution_count": null,
   "metadata": {
    "ExecuteTime": {
     "end_time": "2019-05-03T18:43:27.460950Z",
     "start_time": "2019-05-03T18:43:27.432904Z"
    }
   },
   "outputs": [],
   "source": [
    "# initialize pd.DataFrame to store summary metrics/statistics\n",
    "growth_summary = pd.DataFrame(index=summary.index,\n",
    "                              columns=['GP_r','GP_K','GP_AUC','GP_td',\n",
    "                                       'classical_r','classical_K','classical_AUC','classical_td']);\n",
    "growth_summary.head()"
   ]
  },
  {
   "cell_type": "code",
   "execution_count": null,
   "metadata": {
    "ExecuteTime": {
     "end_time": "2019-05-03T18:45:05.037489Z",
     "start_time": "2019-05-03T18:43:31.693444Z"
    }
   },
   "outputs": [],
   "source": [
    "counter = 0;\n",
    "row_count = 1; print '%02d' % row_count,\n",
    "for well in growth_summary.index:\n",
    "\n",
    "    if counter<12:\n",
    "        print '.',\n",
    "        counter += 1;\n",
    "    else:\n",
    "        row_count += 1;\n",
    "        print '\\n%02d .' % row_count,\n",
    "        counter = 1;\n",
    "\n",
    "    substrate = plate.key.loc[well,'Substrate']; #print substrate\n",
    "    growth = plate.extractGrowthData({'Substrate':[substrate]}); # control is not subtracted\n",
    "    \n",
    "    \n",
    "    classical = GrowthMetrics(growth)\n",
    "    classical.Classical(gompertz)\n",
    "    classical.inferClassicalDynamics()\n",
    "\n",
    "    to_header = ['classical_r','classical_K','classical_AUC','classical_td'];\n",
    "    to_index = classical.key.index[0]\n",
    "    growth_summary.loc[to_index,to_header] = classical.key.loc[to_index,to_header].values\n",
    "\n",
    "    gpr = GrowthMetrics(growth)\n",
    "    gpr.GP()\n",
    "    gpr.inferGPDynamics()\n",
    "\n",
    "    to_header = ['GP_r','GP_K','GP_AUC','GP_td'];\n",
    "    to_index = gpr.key.index[0]\n",
    "    growth_summary.loc[to_index,to_header] = gpr.key.loc[to_index,to_header].values"
   ]
  },
  {
   "cell_type": "code",
   "execution_count": null,
   "metadata": {
    "ExecuteTime": {
     "end_time": "2019-05-03T18:45:05.095350Z",
     "start_time": "2019-05-03T18:45:05.040616Z"
    }
   },
   "outputs": [],
   "source": [
    "summary_df = summary.join(growth_summary).sort_values(['GP_td'],ascending=True)\n",
    "summary_df.head(10)"
   ]
  },
  {
   "cell_type": "code",
   "execution_count": null,
   "metadata": {
    "ExecuteTime": {
     "end_time": "2019-05-03T18:45:05.512209Z",
     "start_time": "2019-05-03T18:45:05.098086Z"
    }
   },
   "outputs": [],
   "source": [
    "fig,ax = plt.subplots(figsize=[5,7]);\n",
    "\n",
    "# grab all growth curves with at least 1.5 fold change (relative to negative control)\n",
    "subset = list(summary_df[summary_df['Growth Fold']>1.5].Substrate.values)+list(['Negative Control']);\n",
    "\n",
    "labels = summary_df[summary_df.isin({'Substrate':subset}).any(1)].Substrate\n",
    "td = summary_df[summary_df.isin({'Substrate':subset}).any(1)].GP_td;\n",
    "\n",
    "ax.barh(y=range(len(labels)),width=td,height=0.8,color=(0,0,0,0.65));\n",
    "\n",
    "[ii.set(fontsize=20) for ii in ax.get_xticklabels()+ax.get_yticklabels()];\n",
    "\n",
    "ax.set_xlabel('Doubling Time (Estimated by GP)',fontsize=20);\n",
    "plt.setp(ax,yticks=range(len(labels)),yticklabels=labels);\n",
    "ax.yaxis.grid(False)"
   ]
  },
  {
   "cell_type": "code",
   "execution_count": null,
   "metadata": {
    "collapsed": true
   },
   "outputs": [],
   "source": []
  }
 ],
 "metadata": {
  "hide_input": false,
  "kernelspec": {
   "display_name": "Python 2",
   "language": "python",
   "name": "python2"
  },
  "language_info": {
   "codemirror_mode": {
    "name": "ipython",
    "version": 2
   },
   "file_extension": ".py",
   "mimetype": "text/x-python",
   "name": "python",
   "nbconvert_exporter": "python",
   "pygments_lexer": "ipython2",
   "version": "2.7.13"
  },
  "toc": {
   "base_numbering": 1,
   "nav_menu": {},
   "number_sections": true,
   "sideBar": true,
   "skip_h1_title": false,
   "title_cell": "Table of Contents",
   "title_sidebar": "Contents",
   "toc_cell": false,
   "toc_position": {},
   "toc_section_display": true,
   "toc_window_display": false
  }
 },
 "nbformat": 4,
 "nbformat_minor": 2
}
